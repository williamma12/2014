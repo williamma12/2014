{
 "cells": [
  {
   "cell_type": "markdown",
   "metadata": {
    "deletable": true,
    "editable": true
   },
   "source": [
    "# Homework 2: More Exploratory Data Analysis\n",
    "## Gene Expression Data and Election Polls \n",
    "\n",
    "Due: Thursday, October 2, 2014 11:59 PM\n",
    "\n",
    "<a href=https://raw.githubusercontent.com/cs109/2014/master/homework/HW2.ipynb download=HW2.ipynb> Download this assignment</a>\n",
    "\n",
    "#### Submission Instructions\n",
    "To submit your homework, create a folder named lastname_firstinitial_hw# and place your IPython notebooks, data files, and any other files in this folder. Your IPython Notebooks should be completely executed with the results visible in the notebook. We should not have to run any code. Compress the folder (please use .zip compression) and submit to the CS109 dropbox in the appropriate folder. If we cannot access your work because these directions are not followed correctly, we will not grade your work.\n",
    "\n",
    "\n",
    "---"
   ]
  },
  {
   "cell_type": "markdown",
   "metadata": {
    "deletable": true,
    "editable": true
   },
   "source": [
    "## Introduction\n",
    "\n",
    "John Tukey wrote in [Exploratory Data Analysis, 1977](http://www.amazon.com/Exploratory-Data-Analysis-Wilder-Tukey/dp/0201076160/ref=pd_bbs_sr_2/103-4466654-5303007?ie=UTF8&s=books&qid=1189739816&sr=8-2): \"The greatest value of a picture is when it forces us to notice what we never expected to see.\" In this assignment we will continue using our exploratory data analysis tools, but apply it to new sets of data: [gene expression](http://en.wikipedia.org/wiki/Gene_expression) and polls from the [2012 Presidental Election](http://en.wikipedia.org/wiki/United_States_presidential_election,_2012) and from the [2014 Senate Midterm Elections](http://en.wikipedia.org/wiki/United_States_Senate_elections,_2014).   \n",
    "\n",
    "**First**: You will use exploratory data analysis and apply the [singular value decomposition](http://en.wikipedia.org/wiki/Singular_value_decomposition) (SVD) to a gene expression data matrix to determine if the the date that the gene expression samples are processed has large effect on the variability seen in the data.  \n",
    "\n",
    "**Second**: You will use the polls from the 2012 Presidential Elections to determine (1) Is there a pollster bias in presidential election polls? and (2) Is the average of polls better than just one poll?\n",
    "\n",
    "**Finally**: You will use the [HuffPost Pollster API](http://elections.huffingtonpost.com/pollster/api) to extract the polls for the current 2014 Senate Midterm Elections and provide a preliminary prediction of the result of each state.\n",
    "\n",
    "#### Data\n",
    "\n",
    "We will use the following data sets: \n",
    "\n",
    "1. A gene expression data set called `exprs_GSE5859.csv` and sample annotation table called `sampleinfo_GSE5859.csv` which are both available on Github in the 2014_data repository: [expression data set](https://github.com/cs109/2014_data/blob/master/exprs_GSE5859.csv) and [sample annotation table](https://github.com/cs109/2014_data/blob/master/sampleinfo_GSE5859.csv).  \n",
    "\n",
    "2. Polls from the [2012 Presidential Election: Barack Obama vs Mitt Romney](http://elections.huffingtonpost.com/pollster/2012-general-election-romney-vs-obama). The polls we will use are from the [Huffington Post Pollster](http://elections.huffingtonpost.com/pollster).  \n",
    "\n",
    "3. Polls from the [2014 Senate Midterm Elections](http://elections.huffingtonpost.com/pollster) from the [HuffPost Pollster API](http://elections.huffingtonpost.com/pollster/api). \n",
    "\n",
    "---"
   ]
  },
  {
   "cell_type": "markdown",
   "metadata": {
    "deletable": true,
    "editable": true
   },
   "source": [
    "## Load Python modules"
   ]
  },
  {
   "cell_type": "code",
   "execution_count": 152,
   "metadata": {
    "collapsed": false,
    "deletable": true,
    "editable": true
   },
   "outputs": [],
   "source": [
    "# special IPython command to prepare the notebook for matplotlib\n",
    "%matplotlib inline \n",
    "\n",
    "import requests \n",
    "from StringIO import StringIO\n",
    "import numpy as np\n",
    "from scipy import stats\n",
    "import pandas as pd # pandas\n",
    "import matplotlib.pyplot as plt # module for plotting \n",
    "import datetime as dt # module for manipulating dates and times\n",
    "import numpy.linalg as lin # module for performing linear algebra operations"
   ]
  },
  {
   "cell_type": "markdown",
   "metadata": {
    "deletable": true,
    "editable": true
   },
   "source": [
    "## Problem 1\n",
    "\n",
    "In this problem we will be using a [gene expression](http://en.wikipedia.org/wiki/Gene_expression) data set obtained from a [microarray](http://en.wikipedia.org/wiki/DNA_microarray) experiement [Read more about the specific experiment here](http://www.ncbi.nlm.nih.gov/geo/query/acc.cgi?acc=GSE5859).  There are two data sets we will use:  \n",
    "\n",
    "1. The gene expression intensities where the rows represent the features on the microarray (e.g. genes) and the columns represent the different microarray samples.  \n",
    "\n",
    "2. A table that contains the information about each of the samples (columns in the gene expression data set) such as the sex, the age, the treatment status, the date the samples were processed.  Each row represents one sample. "
   ]
  },
  {
   "cell_type": "markdown",
   "metadata": {
    "deletable": true,
    "editable": true
   },
   "source": [
    "#### Problem 1(a) \n",
    "Read in the two files from Github: [exprs_GSE5859.csv](https://github.com/cs109/2014_data/blob/master/exprs_GSE5859.csv) and [sampleinfo_GSE5859.csv](https://github.com/cs109/2014_data/blob/master/sampleinfo_GSE5859.csv) as pandas DataFrames called `exprs` and `sampleinfo`. Use the gene names as the index of the `exprs` DataFrame."
   ]
  },
  {
   "cell_type": "code",
   "execution_count": 153,
   "metadata": {
    "collapsed": false,
    "deletable": true,
    "editable": true
   },
   "outputs": [
    {
     "name": "stdout",
     "output_type": "stream",
     "text": [
      "  ethnicity        date         filename sex\n",
      "0       CEU  2003-02-04  GSM25349.CEL.gz   M\n",
      "1       CEU  2003-02-04  GSM25350.CEL.gz   M\n",
      "2       CEU  2002-12-17  GSM25356.CEL.gz   M\n",
      "3       CEU  2003-01-30  GSM25357.CEL.gz   M\n",
      "4       CEU  2003-01-03  GSM25358.CEL.gz   M\n"
     ]
    },
    {
     "data": {
      "text/html": [
       "<div>\n",
       "<table border=\"1\" class=\"dataframe\">\n",
       "  <thead>\n",
       "    <tr style=\"text-align: right;\">\n",
       "      <th></th>\n",
       "      <th>Unnamed: 0</th>\n",
       "      <th>GSM25581.CEL.gz</th>\n",
       "      <th>GSM25681.CEL.gz</th>\n",
       "      <th>GSM136524.CEL.gz</th>\n",
       "      <th>GSM136707.CEL.gz</th>\n",
       "      <th>GSM25553.CEL.gz</th>\n",
       "      <th>GSM136676.CEL.gz</th>\n",
       "      <th>GSM136711.CEL.gz</th>\n",
       "      <th>GSM136542.CEL.gz</th>\n",
       "      <th>GSM136535.CEL.gz</th>\n",
       "      <th>...</th>\n",
       "      <th>GSM48650.CEL.gz</th>\n",
       "      <th>GSM25687.CEL.gz</th>\n",
       "      <th>GSM25685.CEL.gz</th>\n",
       "      <th>GSM136549.CEL.gz</th>\n",
       "      <th>GSM25427.CEL.gz</th>\n",
       "      <th>GSM25525.CEL.gz</th>\n",
       "      <th>GSM25349.CEL.gz</th>\n",
       "      <th>GSM136727.CEL.gz</th>\n",
       "      <th>GSM25626.CEL.gz</th>\n",
       "      <th>GSM136725.CEL.gz</th>\n",
       "    </tr>\n",
       "  </thead>\n",
       "  <tbody>\n",
       "    <tr>\n",
       "      <th>0</th>\n",
       "      <td>1007_s_at</td>\n",
       "      <td>6.333951</td>\n",
       "      <td>5.736190</td>\n",
       "      <td>6.156754</td>\n",
       "      <td>6.513010</td>\n",
       "      <td>6.061013</td>\n",
       "      <td>6.506493</td>\n",
       "      <td>6.863426</td>\n",
       "      <td>6.369645</td>\n",
       "      <td>6.646321</td>\n",
       "      <td>...</td>\n",
       "      <td>7.082636</td>\n",
       "      <td>6.315866</td>\n",
       "      <td>7.010165</td>\n",
       "      <td>6.460107</td>\n",
       "      <td>6.122355</td>\n",
       "      <td>6.330314</td>\n",
       "      <td>6.627014</td>\n",
       "      <td>6.133068</td>\n",
       "      <td>6.419444</td>\n",
       "      <td>6.488579</td>\n",
       "    </tr>\n",
       "    <tr>\n",
       "      <th>1</th>\n",
       "      <td>1053_at</td>\n",
       "      <td>7.255622</td>\n",
       "      <td>7.399993</td>\n",
       "      <td>7.491967</td>\n",
       "      <td>7.006123</td>\n",
       "      <td>7.250995</td>\n",
       "      <td>7.082581</td>\n",
       "      <td>6.842236</td>\n",
       "      <td>7.048487</td>\n",
       "      <td>7.042361</td>\n",
       "      <td>...</td>\n",
       "      <td>6.599718</td>\n",
       "      <td>7.412731</td>\n",
       "      <td>7.274429</td>\n",
       "      <td>6.928642</td>\n",
       "      <td>7.168782</td>\n",
       "      <td>7.235648</td>\n",
       "      <td>6.939184</td>\n",
       "      <td>7.280781</td>\n",
       "      <td>6.351776</td>\n",
       "      <td>7.517410</td>\n",
       "    </tr>\n",
       "    <tr>\n",
       "      <th>2</th>\n",
       "      <td>117_at</td>\n",
       "      <td>5.760106</td>\n",
       "      <td>4.825169</td>\n",
       "      <td>5.039387</td>\n",
       "      <td>5.414160</td>\n",
       "      <td>5.205697</td>\n",
       "      <td>5.300078</td>\n",
       "      <td>5.099337</td>\n",
       "      <td>5.156459</td>\n",
       "      <td>5.736109</td>\n",
       "      <td>...</td>\n",
       "      <td>6.231457</td>\n",
       "      <td>5.240717</td>\n",
       "      <td>5.275062</td>\n",
       "      <td>5.759827</td>\n",
       "      <td>5.409720</td>\n",
       "      <td>5.491938</td>\n",
       "      <td>5.113570</td>\n",
       "      <td>5.401876</td>\n",
       "      <td>5.537605</td>\n",
       "      <td>5.247190</td>\n",
       "    </tr>\n",
       "    <tr>\n",
       "      <th>3</th>\n",
       "      <td>121_at</td>\n",
       "      <td>6.935451</td>\n",
       "      <td>7.025210</td>\n",
       "      <td>7.543667</td>\n",
       "      <td>7.959781</td>\n",
       "      <td>7.223323</td>\n",
       "      <td>8.006816</td>\n",
       "      <td>8.102504</td>\n",
       "      <td>7.434617</td>\n",
       "      <td>7.532321</td>\n",
       "      <td>...</td>\n",
       "      <td>8.215096</td>\n",
       "      <td>7.677593</td>\n",
       "      <td>7.923624</td>\n",
       "      <td>7.219401</td>\n",
       "      <td>7.432338</td>\n",
       "      <td>6.785174</td>\n",
       "      <td>7.833862</td>\n",
       "      <td>7.607461</td>\n",
       "      <td>7.302935</td>\n",
       "      <td>7.331864</td>\n",
       "    </tr>\n",
       "    <tr>\n",
       "      <th>4</th>\n",
       "      <td>1255_g_at</td>\n",
       "      <td>3.597872</td>\n",
       "      <td>3.108801</td>\n",
       "      <td>3.128269</td>\n",
       "      <td>3.364947</td>\n",
       "      <td>3.125909</td>\n",
       "      <td>3.186834</td>\n",
       "      <td>3.311022</td>\n",
       "      <td>3.092042</td>\n",
       "      <td>3.167737</td>\n",
       "      <td>...</td>\n",
       "      <td>3.331424</td>\n",
       "      <td>3.043856</td>\n",
       "      <td>3.151900</td>\n",
       "      <td>3.132253</td>\n",
       "      <td>3.250600</td>\n",
       "      <td>2.984125</td>\n",
       "      <td>3.152269</td>\n",
       "      <td>3.225123</td>\n",
       "      <td>3.222731</td>\n",
       "      <td>3.175846</td>\n",
       "    </tr>\n",
       "  </tbody>\n",
       "</table>\n",
       "<p>5 rows × 209 columns</p>\n",
       "</div>"
      ],
      "text/plain": [
       "  Unnamed: 0  GSM25581.CEL.gz  GSM25681.CEL.gz  GSM136524.CEL.gz  \\\n",
       "0  1007_s_at         6.333951         5.736190          6.156754   \n",
       "1    1053_at         7.255622         7.399993          7.491967   \n",
       "2     117_at         5.760106         4.825169          5.039387   \n",
       "3     121_at         6.935451         7.025210          7.543667   \n",
       "4  1255_g_at         3.597872         3.108801          3.128269   \n",
       "\n",
       "   GSM136707.CEL.gz  GSM25553.CEL.gz  GSM136676.CEL.gz  GSM136711.CEL.gz  \\\n",
       "0          6.513010         6.061013          6.506493          6.863426   \n",
       "1          7.006123         7.250995          7.082581          6.842236   \n",
       "2          5.414160         5.205697          5.300078          5.099337   \n",
       "3          7.959781         7.223323          8.006816          8.102504   \n",
       "4          3.364947         3.125909          3.186834          3.311022   \n",
       "\n",
       "   GSM136542.CEL.gz  GSM136535.CEL.gz        ...         GSM48650.CEL.gz  \\\n",
       "0          6.369645          6.646321        ...                7.082636   \n",
       "1          7.048487          7.042361        ...                6.599718   \n",
       "2          5.156459          5.736109        ...                6.231457   \n",
       "3          7.434617          7.532321        ...                8.215096   \n",
       "4          3.092042          3.167737        ...                3.331424   \n",
       "\n",
       "   GSM25687.CEL.gz  GSM25685.CEL.gz  GSM136549.CEL.gz  GSM25427.CEL.gz  \\\n",
       "0         6.315866         7.010165          6.460107         6.122355   \n",
       "1         7.412731         7.274429          6.928642         7.168782   \n",
       "2         5.240717         5.275062          5.759827         5.409720   \n",
       "3         7.677593         7.923624          7.219401         7.432338   \n",
       "4         3.043856         3.151900          3.132253         3.250600   \n",
       "\n",
       "   GSM25525.CEL.gz  GSM25349.CEL.gz  GSM136727.CEL.gz  GSM25626.CEL.gz  \\\n",
       "0         6.330314         6.627014          6.133068         6.419444   \n",
       "1         7.235648         6.939184          7.280781         6.351776   \n",
       "2         5.491938         5.113570          5.401876         5.537605   \n",
       "3         6.785174         7.833862          7.607461         7.302935   \n",
       "4         2.984125         3.152269          3.225123         3.222731   \n",
       "\n",
       "   GSM136725.CEL.gz  \n",
       "0          6.488579  \n",
       "1          7.517410  \n",
       "2          5.247190  \n",
       "3          7.331864  \n",
       "4          3.175846  \n",
       "\n",
       "[5 rows x 209 columns]"
      ]
     },
     "execution_count": 153,
     "metadata": {},
     "output_type": "execute_result"
    }
   ],
   "source": [
    "#your code here\n",
    "exprs_url = 'https://raw.githubusercontent.com/cs109/2014_data/master/exprs_GSE5859.csv'\n",
    "exprs = pd.read_csv(StringIO(requests.get(exprs_url).content))\n",
    "\n",
    "sampleinfo_url = 'https://raw.githubusercontent.com/cs109/2014_data/master/sampleinfo_GSE5859.csv'\n",
    "sampleinfo = pd.read_csv(StringIO(requests.get(sampleinfo_url).content))\n",
    "\n",
    "print(sampleinfo.head())\n",
    "exprs.head()"
   ]
  },
  {
   "cell_type": "markdown",
   "metadata": {
    "deletable": true,
    "editable": true
   },
   "source": [
    "Make sure the order of the columns in the gene expression DataFrame match the order of file names in the sample annotation DataFrame. If the order of the columns the `exprs` DataFrame do not match the order of the file names in the `sampleinfo` DataFrame, reorder the columns in the `exprs` DataFrame. \n",
    "\n",
    "**Note**: The column names of the gene expression DataFrame are the filenames of the orignal files from which these data were obtained.  \n",
    "\n",
    "**Hint**: The method `list.index(x)` [[read here](https://docs.python.org/2/tutorial/datastructures.html)] can be used to return the index in the list of the first item whose value is x. It is an error if there is no such item. To check if the order of the columns in `exprs` matches the order of the rows in `sampleinfo`, you can check using the method `.all()` on a Boolean or list of Booleans: \n",
    "\n",
    "Example code: `(exprs.columns == sampleinfo.filename).all()`"
   ]
  },
  {
   "cell_type": "code",
   "execution_count": 154,
   "metadata": {
    "collapsed": false,
    "deletable": true,
    "editable": true
   },
   "outputs": [
    {
     "data": {
      "text/plain": [
       "True"
      ]
     },
     "execution_count": 154,
     "metadata": {},
     "output_type": "execute_result"
    }
   ],
   "source": [
    "#your code here\n",
    "if not (exprs.columns.tolist()[1:] == sampleinfo.filename).all():\n",
    "    cols = exprs.columns.tolist()[0:1] + sampleinfo.filename.tolist()\n",
    "    exprs = exprs.reindex_axis(cols, axis=1)\n",
    "    \n",
    "(exprs.columns.tolist()[1:] == sampleinfo.filename).all()"
   ]
  },
  {
   "cell_type": "markdown",
   "metadata": {
    "deletable": true,
    "editable": true
   },
   "source": [
    "Show the head of the two tables: `exprs` and `sampleinfo`. "
   ]
  },
  {
   "cell_type": "code",
   "execution_count": 155,
   "metadata": {
    "collapsed": false,
    "deletable": true,
    "editable": true
   },
   "outputs": [
    {
     "name": "stdout",
     "output_type": "stream",
     "text": [
      "  ethnicity        date         filename sex\n",
      "0       CEU  2003-02-04  GSM25349.CEL.gz   M\n",
      "1       CEU  2003-02-04  GSM25350.CEL.gz   M\n",
      "2       CEU  2002-12-17  GSM25356.CEL.gz   M\n",
      "3       CEU  2003-01-30  GSM25357.CEL.gz   M\n",
      "4       CEU  2003-01-03  GSM25358.CEL.gz   M\n"
     ]
    },
    {
     "data": {
      "text/html": [
       "<div>\n",
       "<table border=\"1\" class=\"dataframe\">\n",
       "  <thead>\n",
       "    <tr style=\"text-align: right;\">\n",
       "      <th></th>\n",
       "      <th>Unnamed: 0</th>\n",
       "      <th>GSM25349.CEL.gz</th>\n",
       "      <th>GSM25350.CEL.gz</th>\n",
       "      <th>GSM25356.CEL.gz</th>\n",
       "      <th>GSM25357.CEL.gz</th>\n",
       "      <th>GSM25358.CEL.gz</th>\n",
       "      <th>GSM25359.CEL.gz</th>\n",
       "      <th>GSM25360.CEL.gz</th>\n",
       "      <th>GSM25361.CEL.gz</th>\n",
       "      <th>GSM25377.CEL.gz</th>\n",
       "      <th>...</th>\n",
       "      <th>GSM136719.CEL.gz</th>\n",
       "      <th>GSM136720.CEL.gz</th>\n",
       "      <th>GSM136721.CEL.gz</th>\n",
       "      <th>GSM136722.CEL.gz</th>\n",
       "      <th>GSM136723.CEL.gz</th>\n",
       "      <th>GSM136724.CEL.gz</th>\n",
       "      <th>GSM136725.CEL.gz</th>\n",
       "      <th>GSM136726.CEL.gz</th>\n",
       "      <th>GSM136727.CEL.gz</th>\n",
       "      <th>GSM136729.CEL.gz</th>\n",
       "    </tr>\n",
       "  </thead>\n",
       "  <tbody>\n",
       "    <tr>\n",
       "      <th>0</th>\n",
       "      <td>1007_s_at</td>\n",
       "      <td>6.627014</td>\n",
       "      <td>6.249807</td>\n",
       "      <td>5.934128</td>\n",
       "      <td>6.145268</td>\n",
       "      <td>6.091270</td>\n",
       "      <td>6.041186</td>\n",
       "      <td>6.050375</td>\n",
       "      <td>6.063847</td>\n",
       "      <td>6.226106</td>\n",
       "      <td>...</td>\n",
       "      <td>6.466445</td>\n",
       "      <td>6.533592</td>\n",
       "      <td>6.631492</td>\n",
       "      <td>6.513362</td>\n",
       "      <td>6.440706</td>\n",
       "      <td>6.704324</td>\n",
       "      <td>6.488579</td>\n",
       "      <td>6.809481</td>\n",
       "      <td>6.133068</td>\n",
       "      <td>6.155473</td>\n",
       "    </tr>\n",
       "    <tr>\n",
       "      <th>1</th>\n",
       "      <td>1053_at</td>\n",
       "      <td>6.939184</td>\n",
       "      <td>6.818038</td>\n",
       "      <td>7.047962</td>\n",
       "      <td>7.422477</td>\n",
       "      <td>7.272361</td>\n",
       "      <td>7.128216</td>\n",
       "      <td>6.750719</td>\n",
       "      <td>6.836287</td>\n",
       "      <td>6.738022</td>\n",
       "      <td>...</td>\n",
       "      <td>7.032885</td>\n",
       "      <td>7.156344</td>\n",
       "      <td>7.018025</td>\n",
       "      <td>6.973322</td>\n",
       "      <td>6.884738</td>\n",
       "      <td>7.120898</td>\n",
       "      <td>7.517410</td>\n",
       "      <td>7.200596</td>\n",
       "      <td>7.280781</td>\n",
       "      <td>7.111583</td>\n",
       "    </tr>\n",
       "    <tr>\n",
       "      <th>2</th>\n",
       "      <td>117_at</td>\n",
       "      <td>5.113570</td>\n",
       "      <td>5.074096</td>\n",
       "      <td>5.371201</td>\n",
       "      <td>5.266550</td>\n",
       "      <td>5.342047</td>\n",
       "      <td>5.063876</td>\n",
       "      <td>5.315898</td>\n",
       "      <td>5.483652</td>\n",
       "      <td>6.689444</td>\n",
       "      <td>...</td>\n",
       "      <td>5.661112</td>\n",
       "      <td>5.127260</td>\n",
       "      <td>5.151840</td>\n",
       "      <td>5.505602</td>\n",
       "      <td>5.687689</td>\n",
       "      <td>4.942651</td>\n",
       "      <td>5.247190</td>\n",
       "      <td>5.237239</td>\n",
       "      <td>5.401876</td>\n",
       "      <td>5.302628</td>\n",
       "    </tr>\n",
       "    <tr>\n",
       "      <th>3</th>\n",
       "      <td>121_at</td>\n",
       "      <td>7.833862</td>\n",
       "      <td>7.780682</td>\n",
       "      <td>7.458197</td>\n",
       "      <td>7.655948</td>\n",
       "      <td>7.546555</td>\n",
       "      <td>7.072670</td>\n",
       "      <td>7.092984</td>\n",
       "      <td>6.954225</td>\n",
       "      <td>7.489785</td>\n",
       "      <td>...</td>\n",
       "      <td>7.769734</td>\n",
       "      <td>7.815864</td>\n",
       "      <td>7.683279</td>\n",
       "      <td>7.883231</td>\n",
       "      <td>7.913621</td>\n",
       "      <td>7.834196</td>\n",
       "      <td>7.331864</td>\n",
       "      <td>7.357102</td>\n",
       "      <td>7.607461</td>\n",
       "      <td>7.456453</td>\n",
       "    </tr>\n",
       "    <tr>\n",
       "      <th>4</th>\n",
       "      <td>1255_g_at</td>\n",
       "      <td>3.152269</td>\n",
       "      <td>3.111747</td>\n",
       "      <td>3.018932</td>\n",
       "      <td>3.154545</td>\n",
       "      <td>3.107954</td>\n",
       "      <td>3.224284</td>\n",
       "      <td>3.114241</td>\n",
       "      <td>3.044975</td>\n",
       "      <td>3.304038</td>\n",
       "      <td>...</td>\n",
       "      <td>3.257484</td>\n",
       "      <td>3.339234</td>\n",
       "      <td>3.298384</td>\n",
       "      <td>3.150654</td>\n",
       "      <td>3.344501</td>\n",
       "      <td>3.230285</td>\n",
       "      <td>3.175846</td>\n",
       "      <td>3.105092</td>\n",
       "      <td>3.225123</td>\n",
       "      <td>3.090149</td>\n",
       "    </tr>\n",
       "  </tbody>\n",
       "</table>\n",
       "<p>5 rows × 209 columns</p>\n",
       "</div>"
      ],
      "text/plain": [
       "  Unnamed: 0  GSM25349.CEL.gz  GSM25350.CEL.gz  GSM25356.CEL.gz  \\\n",
       "0  1007_s_at         6.627014         6.249807         5.934128   \n",
       "1    1053_at         6.939184         6.818038         7.047962   \n",
       "2     117_at         5.113570         5.074096         5.371201   \n",
       "3     121_at         7.833862         7.780682         7.458197   \n",
       "4  1255_g_at         3.152269         3.111747         3.018932   \n",
       "\n",
       "   GSM25357.CEL.gz  GSM25358.CEL.gz  GSM25359.CEL.gz  GSM25360.CEL.gz  \\\n",
       "0         6.145268         6.091270         6.041186         6.050375   \n",
       "1         7.422477         7.272361         7.128216         6.750719   \n",
       "2         5.266550         5.342047         5.063876         5.315898   \n",
       "3         7.655948         7.546555         7.072670         7.092984   \n",
       "4         3.154545         3.107954         3.224284         3.114241   \n",
       "\n",
       "   GSM25361.CEL.gz  GSM25377.CEL.gz        ...         GSM136719.CEL.gz  \\\n",
       "0         6.063847         6.226106        ...                 6.466445   \n",
       "1         6.836287         6.738022        ...                 7.032885   \n",
       "2         5.483652         6.689444        ...                 5.661112   \n",
       "3         6.954225         7.489785        ...                 7.769734   \n",
       "4         3.044975         3.304038        ...                 3.257484   \n",
       "\n",
       "   GSM136720.CEL.gz  GSM136721.CEL.gz  GSM136722.CEL.gz  GSM136723.CEL.gz  \\\n",
       "0          6.533592          6.631492          6.513362          6.440706   \n",
       "1          7.156344          7.018025          6.973322          6.884738   \n",
       "2          5.127260          5.151840          5.505602          5.687689   \n",
       "3          7.815864          7.683279          7.883231          7.913621   \n",
       "4          3.339234          3.298384          3.150654          3.344501   \n",
       "\n",
       "   GSM136724.CEL.gz  GSM136725.CEL.gz  GSM136726.CEL.gz  GSM136727.CEL.gz  \\\n",
       "0          6.704324          6.488579          6.809481          6.133068   \n",
       "1          7.120898          7.517410          7.200596          7.280781   \n",
       "2          4.942651          5.247190          5.237239          5.401876   \n",
       "3          7.834196          7.331864          7.357102          7.607461   \n",
       "4          3.230285          3.175846          3.105092          3.225123   \n",
       "\n",
       "   GSM136729.CEL.gz  \n",
       "0          6.155473  \n",
       "1          7.111583  \n",
       "2          5.302628  \n",
       "3          7.456453  \n",
       "4          3.090149  \n",
       "\n",
       "[5 rows x 209 columns]"
      ]
     },
     "execution_count": 155,
     "metadata": {},
     "output_type": "execute_result"
    }
   ],
   "source": [
    "#your code here\n",
    "print(sampleinfo.head())\n",
    "exprs.head()"
   ]
  },
  {
   "cell_type": "markdown",
   "metadata": {
    "deletable": true,
    "editable": true
   },
   "source": [
    "#### Problem 1(b)\n",
    "\n",
    "Extract the year and month as integers from the `sampleinfo` table. \n",
    "\n",
    "**Hint**: To convert a Series or a column of a pandas DataFrame that contains a date-like object, you can use the `to_datetime` function [[read here](http://pandas.pydata.org/pandas-docs/stable/timeseries.html)].  This will create a `DatetimeIndex` which can be used to extract the month and year for each row in the DataFrame. "
   ]
  },
  {
   "cell_type": "code",
   "execution_count": 156,
   "metadata": {
    "collapsed": false,
    "deletable": true,
    "editable": true
   },
   "outputs": [
    {
     "data": {
      "text/plain": [
       "0     4\n",
       "1     4\n",
       "2    17\n",
       "3    30\n",
       "4     3\n",
       "Name: date, dtype: int64"
      ]
     },
     "execution_count": 156,
     "metadata": {},
     "output_type": "execute_result"
    }
   ],
   "source": [
    "#your code here\n",
    "sampleinfo['date'] = pd.to_datetime(sampleinfo['date'])\n",
    "sampleinfo['date'].dt.day.head()"
   ]
  },
  {
   "cell_type": "markdown",
   "metadata": {
    "deletable": true,
    "editable": true
   },
   "source": [
    "#### Problem 1(c)\n",
    "\n",
    "Convert the dates in the `date` column from the `sampleinfo` table into days since October 31, 2002. Add a column to the `sampleinfo` DataFrame titled `elapsedInDays` containing the days since October 31, 2002.  Show the head of the `sampleinfo` DataFrame which includes the new column.  \n",
    "\n",
    "**Hint**: Use the `datetime` module to create a new `datetime` object for the specific date October 31, 2002. Then, subtract the October 31, 2002 date from each date from the `date` column in the `sampleinfo` DataFrame. "
   ]
  },
  {
   "cell_type": "code",
   "execution_count": 157,
   "metadata": {
    "collapsed": false,
    "deletable": true,
    "editable": true
   },
   "outputs": [
    {
     "data": {
      "text/html": [
       "<div>\n",
       "<table border=\"1\" class=\"dataframe\">\n",
       "  <thead>\n",
       "    <tr style=\"text-align: right;\">\n",
       "      <th></th>\n",
       "      <th>ethnicity</th>\n",
       "      <th>date</th>\n",
       "      <th>filename</th>\n",
       "      <th>sex</th>\n",
       "      <th>elapsedInDays</th>\n",
       "    </tr>\n",
       "  </thead>\n",
       "  <tbody>\n",
       "    <tr>\n",
       "      <th>0</th>\n",
       "      <td>CEU</td>\n",
       "      <td>2003-02-04</td>\n",
       "      <td>GSM25349.CEL.gz</td>\n",
       "      <td>M</td>\n",
       "      <td>96</td>\n",
       "    </tr>\n",
       "    <tr>\n",
       "      <th>1</th>\n",
       "      <td>CEU</td>\n",
       "      <td>2003-02-04</td>\n",
       "      <td>GSM25350.CEL.gz</td>\n",
       "      <td>M</td>\n",
       "      <td>96</td>\n",
       "    </tr>\n",
       "    <tr>\n",
       "      <th>2</th>\n",
       "      <td>CEU</td>\n",
       "      <td>2002-12-17</td>\n",
       "      <td>GSM25356.CEL.gz</td>\n",
       "      <td>M</td>\n",
       "      <td>47</td>\n",
       "    </tr>\n",
       "    <tr>\n",
       "      <th>3</th>\n",
       "      <td>CEU</td>\n",
       "      <td>2003-01-30</td>\n",
       "      <td>GSM25357.CEL.gz</td>\n",
       "      <td>M</td>\n",
       "      <td>91</td>\n",
       "    </tr>\n",
       "    <tr>\n",
       "      <th>4</th>\n",
       "      <td>CEU</td>\n",
       "      <td>2003-01-03</td>\n",
       "      <td>GSM25358.CEL.gz</td>\n",
       "      <td>M</td>\n",
       "      <td>64</td>\n",
       "    </tr>\n",
       "  </tbody>\n",
       "</table>\n",
       "</div>"
      ],
      "text/plain": [
       "  ethnicity       date         filename sex  elapsedInDays\n",
       "0       CEU 2003-02-04  GSM25349.CEL.gz   M             96\n",
       "1       CEU 2003-02-04  GSM25350.CEL.gz   M             96\n",
       "2       CEU 2002-12-17  GSM25356.CEL.gz   M             47\n",
       "3       CEU 2003-01-30  GSM25357.CEL.gz   M             91\n",
       "4       CEU 2003-01-03  GSM25358.CEL.gz   M             64"
      ]
     },
     "execution_count": 157,
     "metadata": {},
     "output_type": "execute_result"
    }
   ],
   "source": [
    "#your code here\n",
    "sampleinfo['elapsedInDays'] = (sampleinfo['date'] - dt.date(2002, 10, 31)).dt.days\n",
    "sampleinfo.head()"
   ]
  },
  {
   "cell_type": "markdown",
   "metadata": {
    "deletable": true,
    "editable": true
   },
   "source": [
    "#### Problem 1(d)\n",
    "\n",
    "Use exploratory analysis and the singular value decomposition (SVD) of the gene expression data matrix to determine if the date the samples were processed has large effect on the variability seen in the data or if it is just ethnicity (which is confounded with date). \n",
    "\n",
    "**Hint**: See the end of the [lecture from 9/23/2014 for help with SVD](http://nbviewer.ipython.org/github/cs109/2014/blob/master/lectures/lecture07/data_scraping_transcript.ipynb). \n",
    "\n",
    "First subset the the `sampleinfo` DataFrame to include only the CEU ethnicity.  Call this new subsetted DataFrame `sampleinfoCEU`.  Show the head of `sampleinfoCEU` DataFrame. "
   ]
  },
  {
   "cell_type": "code",
   "execution_count": 158,
   "metadata": {
    "collapsed": false,
    "deletable": true,
    "editable": true
   },
   "outputs": [
    {
     "data": {
      "text/html": [
       "<div>\n",
       "<table border=\"1\" class=\"dataframe\">\n",
       "  <thead>\n",
       "    <tr style=\"text-align: right;\">\n",
       "      <th></th>\n",
       "      <th>ethnicity</th>\n",
       "      <th>date</th>\n",
       "      <th>filename</th>\n",
       "      <th>sex</th>\n",
       "      <th>elapsedInDays</th>\n",
       "    </tr>\n",
       "  </thead>\n",
       "  <tbody>\n",
       "    <tr>\n",
       "      <th>0</th>\n",
       "      <td>CEU</td>\n",
       "      <td>2003-02-04</td>\n",
       "      <td>GSM25349.CEL.gz</td>\n",
       "      <td>M</td>\n",
       "      <td>96</td>\n",
       "    </tr>\n",
       "    <tr>\n",
       "      <th>1</th>\n",
       "      <td>CEU</td>\n",
       "      <td>2003-02-04</td>\n",
       "      <td>GSM25350.CEL.gz</td>\n",
       "      <td>M</td>\n",
       "      <td>96</td>\n",
       "    </tr>\n",
       "    <tr>\n",
       "      <th>2</th>\n",
       "      <td>CEU</td>\n",
       "      <td>2002-12-17</td>\n",
       "      <td>GSM25356.CEL.gz</td>\n",
       "      <td>M</td>\n",
       "      <td>47</td>\n",
       "    </tr>\n",
       "    <tr>\n",
       "      <th>3</th>\n",
       "      <td>CEU</td>\n",
       "      <td>2003-01-30</td>\n",
       "      <td>GSM25357.CEL.gz</td>\n",
       "      <td>M</td>\n",
       "      <td>91</td>\n",
       "    </tr>\n",
       "    <tr>\n",
       "      <th>4</th>\n",
       "      <td>CEU</td>\n",
       "      <td>2003-01-03</td>\n",
       "      <td>GSM25358.CEL.gz</td>\n",
       "      <td>M</td>\n",
       "      <td>64</td>\n",
       "    </tr>\n",
       "  </tbody>\n",
       "</table>\n",
       "</div>"
      ],
      "text/plain": [
       "  ethnicity       date         filename sex  elapsedInDays\n",
       "0       CEU 2003-02-04  GSM25349.CEL.gz   M             96\n",
       "1       CEU 2003-02-04  GSM25350.CEL.gz   M             96\n",
       "2       CEU 2002-12-17  GSM25356.CEL.gz   M             47\n",
       "3       CEU 2003-01-30  GSM25357.CEL.gz   M             91\n",
       "4       CEU 2003-01-03  GSM25358.CEL.gz   M             64"
      ]
     },
     "execution_count": 158,
     "metadata": {},
     "output_type": "execute_result"
    }
   ],
   "source": [
    "#your code here\n",
    "sampleinfoCEU = sampleinfo.loc[sampleinfo.ethnicity == 'CEU']\n",
    "sampleinfoCEU.head()"
   ]
  },
  {
   "cell_type": "markdown",
   "metadata": {
    "deletable": true,
    "editable": true
   },
   "source": [
    "Next, subset the `exprs` DataFrame to only include the samples with the CEU ethnicity. Name this new subsetted DataFrame `exprsCEU`. Show the head of the `exprsCEU` DataFrame. "
   ]
  },
  {
   "cell_type": "code",
   "execution_count": 159,
   "metadata": {
    "collapsed": false,
    "deletable": true,
    "editable": true
   },
   "outputs": [
    {
     "data": {
      "text/html": [
       "<div>\n",
       "<table border=\"1\" class=\"dataframe\">\n",
       "  <thead>\n",
       "    <tr style=\"text-align: right;\">\n",
       "      <th></th>\n",
       "      <th>GSM25349.CEL.gz</th>\n",
       "      <th>GSM25350.CEL.gz</th>\n",
       "      <th>GSM25356.CEL.gz</th>\n",
       "      <th>GSM25357.CEL.gz</th>\n",
       "      <th>GSM25358.CEL.gz</th>\n",
       "      <th>GSM25359.CEL.gz</th>\n",
       "      <th>GSM25360.CEL.gz</th>\n",
       "      <th>GSM25361.CEL.gz</th>\n",
       "      <th>GSM25377.CEL.gz</th>\n",
       "      <th>GSM25378.CEL.gz</th>\n",
       "      <th>...</th>\n",
       "      <th>GSM48658.CEL.gz</th>\n",
       "      <th>GSM48660.CEL.gz</th>\n",
       "      <th>GSM48661.CEL.gz</th>\n",
       "      <th>GSM48662.CEL.gz</th>\n",
       "      <th>GSM48663.CEL.gz</th>\n",
       "      <th>GSM48664.CEL.gz</th>\n",
       "      <th>GSM48665.CEL.gz</th>\n",
       "      <th>GSM136725.CEL.gz</th>\n",
       "      <th>GSM136726.CEL.gz</th>\n",
       "      <th>GSM136727.CEL.gz</th>\n",
       "    </tr>\n",
       "  </thead>\n",
       "  <tbody>\n",
       "    <tr>\n",
       "      <th>0</th>\n",
       "      <td>6.627014</td>\n",
       "      <td>6.249807</td>\n",
       "      <td>5.934128</td>\n",
       "      <td>6.145268</td>\n",
       "      <td>6.091270</td>\n",
       "      <td>6.041186</td>\n",
       "      <td>6.050375</td>\n",
       "      <td>6.063847</td>\n",
       "      <td>6.226106</td>\n",
       "      <td>6.358282</td>\n",
       "      <td>...</td>\n",
       "      <td>6.501510</td>\n",
       "      <td>6.558100</td>\n",
       "      <td>6.618286</td>\n",
       "      <td>6.869995</td>\n",
       "      <td>5.981000</td>\n",
       "      <td>6.403285</td>\n",
       "      <td>6.248702</td>\n",
       "      <td>6.488579</td>\n",
       "      <td>6.809481</td>\n",
       "      <td>6.133068</td>\n",
       "    </tr>\n",
       "    <tr>\n",
       "      <th>1</th>\n",
       "      <td>6.939184</td>\n",
       "      <td>6.818038</td>\n",
       "      <td>7.047962</td>\n",
       "      <td>7.422477</td>\n",
       "      <td>7.272361</td>\n",
       "      <td>7.128216</td>\n",
       "      <td>6.750719</td>\n",
       "      <td>6.836287</td>\n",
       "      <td>6.738022</td>\n",
       "      <td>7.367895</td>\n",
       "      <td>...</td>\n",
       "      <td>7.066686</td>\n",
       "      <td>7.386702</td>\n",
       "      <td>6.407958</td>\n",
       "      <td>7.089180</td>\n",
       "      <td>7.120923</td>\n",
       "      <td>7.018998</td>\n",
       "      <td>7.155419</td>\n",
       "      <td>7.517410</td>\n",
       "      <td>7.200596</td>\n",
       "      <td>7.280781</td>\n",
       "    </tr>\n",
       "    <tr>\n",
       "      <th>2</th>\n",
       "      <td>5.113570</td>\n",
       "      <td>5.074096</td>\n",
       "      <td>5.371201</td>\n",
       "      <td>5.266550</td>\n",
       "      <td>5.342047</td>\n",
       "      <td>5.063876</td>\n",
       "      <td>5.315898</td>\n",
       "      <td>5.483652</td>\n",
       "      <td>6.689444</td>\n",
       "      <td>6.482782</td>\n",
       "      <td>...</td>\n",
       "      <td>5.600514</td>\n",
       "      <td>5.232676</td>\n",
       "      <td>5.630720</td>\n",
       "      <td>4.944748</td>\n",
       "      <td>5.275577</td>\n",
       "      <td>5.770358</td>\n",
       "      <td>5.616842</td>\n",
       "      <td>5.247190</td>\n",
       "      <td>5.237239</td>\n",
       "      <td>5.401876</td>\n",
       "    </tr>\n",
       "    <tr>\n",
       "      <th>3</th>\n",
       "      <td>7.833862</td>\n",
       "      <td>7.780682</td>\n",
       "      <td>7.458197</td>\n",
       "      <td>7.655948</td>\n",
       "      <td>7.546555</td>\n",
       "      <td>7.072670</td>\n",
       "      <td>7.092984</td>\n",
       "      <td>6.954225</td>\n",
       "      <td>7.489785</td>\n",
       "      <td>7.388539</td>\n",
       "      <td>...</td>\n",
       "      <td>7.437535</td>\n",
       "      <td>7.714650</td>\n",
       "      <td>7.416252</td>\n",
       "      <td>7.746448</td>\n",
       "      <td>8.001434</td>\n",
       "      <td>7.626723</td>\n",
       "      <td>7.452299</td>\n",
       "      <td>7.331864</td>\n",
       "      <td>7.357102</td>\n",
       "      <td>7.607461</td>\n",
       "    </tr>\n",
       "    <tr>\n",
       "      <th>4</th>\n",
       "      <td>3.152269</td>\n",
       "      <td>3.111747</td>\n",
       "      <td>3.018932</td>\n",
       "      <td>3.154545</td>\n",
       "      <td>3.107954</td>\n",
       "      <td>3.224284</td>\n",
       "      <td>3.114241</td>\n",
       "      <td>3.044975</td>\n",
       "      <td>3.304038</td>\n",
       "      <td>2.887919</td>\n",
       "      <td>...</td>\n",
       "      <td>3.009983</td>\n",
       "      <td>3.151203</td>\n",
       "      <td>3.199709</td>\n",
       "      <td>3.159496</td>\n",
       "      <td>3.149710</td>\n",
       "      <td>3.242780</td>\n",
       "      <td>3.433125</td>\n",
       "      <td>3.175846</td>\n",
       "      <td>3.105092</td>\n",
       "      <td>3.225123</td>\n",
       "    </tr>\n",
       "  </tbody>\n",
       "</table>\n",
       "<p>5 rows × 102 columns</p>\n",
       "</div>"
      ],
      "text/plain": [
       "   GSM25349.CEL.gz  GSM25350.CEL.gz  GSM25356.CEL.gz  GSM25357.CEL.gz  \\\n",
       "0         6.627014         6.249807         5.934128         6.145268   \n",
       "1         6.939184         6.818038         7.047962         7.422477   \n",
       "2         5.113570         5.074096         5.371201         5.266550   \n",
       "3         7.833862         7.780682         7.458197         7.655948   \n",
       "4         3.152269         3.111747         3.018932         3.154545   \n",
       "\n",
       "   GSM25358.CEL.gz  GSM25359.CEL.gz  GSM25360.CEL.gz  GSM25361.CEL.gz  \\\n",
       "0         6.091270         6.041186         6.050375         6.063847   \n",
       "1         7.272361         7.128216         6.750719         6.836287   \n",
       "2         5.342047         5.063876         5.315898         5.483652   \n",
       "3         7.546555         7.072670         7.092984         6.954225   \n",
       "4         3.107954         3.224284         3.114241         3.044975   \n",
       "\n",
       "   GSM25377.CEL.gz  GSM25378.CEL.gz        ...         GSM48658.CEL.gz  \\\n",
       "0         6.226106         6.358282        ...                6.501510   \n",
       "1         6.738022         7.367895        ...                7.066686   \n",
       "2         6.689444         6.482782        ...                5.600514   \n",
       "3         7.489785         7.388539        ...                7.437535   \n",
       "4         3.304038         2.887919        ...                3.009983   \n",
       "\n",
       "   GSM48660.CEL.gz  GSM48661.CEL.gz  GSM48662.CEL.gz  GSM48663.CEL.gz  \\\n",
       "0         6.558100         6.618286         6.869995         5.981000   \n",
       "1         7.386702         6.407958         7.089180         7.120923   \n",
       "2         5.232676         5.630720         4.944748         5.275577   \n",
       "3         7.714650         7.416252         7.746448         8.001434   \n",
       "4         3.151203         3.199709         3.159496         3.149710   \n",
       "\n",
       "   GSM48664.CEL.gz  GSM48665.CEL.gz  GSM136725.CEL.gz  GSM136726.CEL.gz  \\\n",
       "0         6.403285         6.248702          6.488579          6.809481   \n",
       "1         7.018998         7.155419          7.517410          7.200596   \n",
       "2         5.770358         5.616842          5.247190          5.237239   \n",
       "3         7.626723         7.452299          7.331864          7.357102   \n",
       "4         3.242780         3.433125          3.175846          3.105092   \n",
       "\n",
       "   GSM136727.CEL.gz  \n",
       "0          6.133068  \n",
       "1          7.280781  \n",
       "2          5.401876  \n",
       "3          7.607461  \n",
       "4          3.225123  \n",
       "\n",
       "[5 rows x 102 columns]"
      ]
     },
     "execution_count": 159,
     "metadata": {},
     "output_type": "execute_result"
    }
   ],
   "source": [
    "#your code here\n",
    "exprsCEU = exprs[sampleinfoCEU.filename.tolist()]\n",
    "exprsCEU.head()"
   ]
  },
  {
   "cell_type": "markdown",
   "metadata": {
    "deletable": true,
    "editable": true
   },
   "source": [
    "Check to make sure the order of the columns in the `exprsCEU` DataFrame matches the rows in the `sampleinfoCEU` DataFrame.  "
   ]
  },
  {
   "cell_type": "code",
   "execution_count": 160,
   "metadata": {
    "collapsed": false,
    "deletable": true,
    "editable": true
   },
   "outputs": [
    {
     "data": {
      "text/plain": [
       "True"
      ]
     },
     "execution_count": 160,
     "metadata": {},
     "output_type": "execute_result"
    }
   ],
   "source": [
    "#your code here\n",
    "(exprsCEU.columns.tolist() == sampleinfoCEU.filename).all()"
   ]
  },
  {
   "cell_type": "markdown",
   "metadata": {
    "deletable": true,
    "editable": true
   },
   "source": [
    "Compute the average gene expression intensity in the `exprsCEU` DataFrame across all the samples. For each sample in the `exprsCEU` DataFrame, subtract the average gene expression intensity from each of the samples. Show the head of the mean normalized gene expression data.  "
   ]
  },
  {
   "cell_type": "code",
   "execution_count": 161,
   "metadata": {
    "collapsed": false,
    "deletable": true,
    "editable": true
   },
   "outputs": [
    {
     "data": {
      "text/html": [
       "<div>\n",
       "<table border=\"1\" class=\"dataframe\">\n",
       "  <thead>\n",
       "    <tr style=\"text-align: right;\">\n",
       "      <th></th>\n",
       "      <th>GSM25349.CEL.gz</th>\n",
       "      <th>GSM25350.CEL.gz</th>\n",
       "      <th>GSM25356.CEL.gz</th>\n",
       "      <th>GSM25357.CEL.gz</th>\n",
       "      <th>GSM25358.CEL.gz</th>\n",
       "      <th>GSM25359.CEL.gz</th>\n",
       "      <th>GSM25360.CEL.gz</th>\n",
       "      <th>GSM25361.CEL.gz</th>\n",
       "      <th>GSM25377.CEL.gz</th>\n",
       "      <th>GSM25378.CEL.gz</th>\n",
       "      <th>...</th>\n",
       "      <th>GSM48658.CEL.gz</th>\n",
       "      <th>GSM48660.CEL.gz</th>\n",
       "      <th>GSM48661.CEL.gz</th>\n",
       "      <th>GSM48662.CEL.gz</th>\n",
       "      <th>GSM48663.CEL.gz</th>\n",
       "      <th>GSM48664.CEL.gz</th>\n",
       "      <th>GSM48665.CEL.gz</th>\n",
       "      <th>GSM136725.CEL.gz</th>\n",
       "      <th>GSM136726.CEL.gz</th>\n",
       "      <th>GSM136727.CEL.gz</th>\n",
       "    </tr>\n",
       "  </thead>\n",
       "  <tbody>\n",
       "    <tr>\n",
       "      <th>0</th>\n",
       "      <td>0.365059</td>\n",
       "      <td>-0.012149</td>\n",
       "      <td>-0.327827</td>\n",
       "      <td>-0.116687</td>\n",
       "      <td>-0.170685</td>\n",
       "      <td>-0.220769</td>\n",
       "      <td>-0.211580</td>\n",
       "      <td>-0.198109</td>\n",
       "      <td>-0.035849</td>\n",
       "      <td>0.096327</td>\n",
       "      <td>...</td>\n",
       "      <td>0.239554</td>\n",
       "      <td>0.296144</td>\n",
       "      <td>0.356331</td>\n",
       "      <td>0.608040</td>\n",
       "      <td>-0.280956</td>\n",
       "      <td>0.141330</td>\n",
       "      <td>-0.013254</td>\n",
       "      <td>0.226624</td>\n",
       "      <td>0.547526</td>\n",
       "      <td>-0.128887</td>\n",
       "    </tr>\n",
       "    <tr>\n",
       "      <th>1</th>\n",
       "      <td>-0.136032</td>\n",
       "      <td>-0.257178</td>\n",
       "      <td>-0.027254</td>\n",
       "      <td>0.347260</td>\n",
       "      <td>0.197144</td>\n",
       "      <td>0.053000</td>\n",
       "      <td>-0.324497</td>\n",
       "      <td>-0.238930</td>\n",
       "      <td>-0.337195</td>\n",
       "      <td>0.292678</td>\n",
       "      <td>...</td>\n",
       "      <td>-0.008531</td>\n",
       "      <td>0.311485</td>\n",
       "      <td>-0.667259</td>\n",
       "      <td>0.013964</td>\n",
       "      <td>0.045706</td>\n",
       "      <td>-0.056219</td>\n",
       "      <td>0.080203</td>\n",
       "      <td>0.442193</td>\n",
       "      <td>0.125379</td>\n",
       "      <td>0.205564</td>\n",
       "    </tr>\n",
       "    <tr>\n",
       "      <th>2</th>\n",
       "      <td>-0.490556</td>\n",
       "      <td>-0.530031</td>\n",
       "      <td>-0.232926</td>\n",
       "      <td>-0.337577</td>\n",
       "      <td>-0.262080</td>\n",
       "      <td>-0.540250</td>\n",
       "      <td>-0.288228</td>\n",
       "      <td>-0.120475</td>\n",
       "      <td>1.085317</td>\n",
       "      <td>0.878655</td>\n",
       "      <td>...</td>\n",
       "      <td>-0.003613</td>\n",
       "      <td>-0.371451</td>\n",
       "      <td>0.026594</td>\n",
       "      <td>-0.659379</td>\n",
       "      <td>-0.328549</td>\n",
       "      <td>0.166231</td>\n",
       "      <td>0.012716</td>\n",
       "      <td>-0.356936</td>\n",
       "      <td>-0.366887</td>\n",
       "      <td>-0.202251</td>\n",
       "    </tr>\n",
       "    <tr>\n",
       "      <th>3</th>\n",
       "      <td>0.418026</td>\n",
       "      <td>0.364847</td>\n",
       "      <td>0.042362</td>\n",
       "      <td>0.240113</td>\n",
       "      <td>0.130720</td>\n",
       "      <td>-0.343165</td>\n",
       "      <td>-0.322852</td>\n",
       "      <td>-0.461611</td>\n",
       "      <td>0.073949</td>\n",
       "      <td>-0.027296</td>\n",
       "      <td>...</td>\n",
       "      <td>0.021700</td>\n",
       "      <td>0.298814</td>\n",
       "      <td>0.000417</td>\n",
       "      <td>0.330612</td>\n",
       "      <td>0.585598</td>\n",
       "      <td>0.210887</td>\n",
       "      <td>0.036463</td>\n",
       "      <td>-0.083972</td>\n",
       "      <td>-0.058733</td>\n",
       "      <td>0.191626</td>\n",
       "    </tr>\n",
       "    <tr>\n",
       "      <th>4</th>\n",
       "      <td>0.018335</td>\n",
       "      <td>-0.022187</td>\n",
       "      <td>-0.115002</td>\n",
       "      <td>0.020611</td>\n",
       "      <td>-0.025980</td>\n",
       "      <td>0.090351</td>\n",
       "      <td>-0.019693</td>\n",
       "      <td>-0.088959</td>\n",
       "      <td>0.170104</td>\n",
       "      <td>-0.246015</td>\n",
       "      <td>...</td>\n",
       "      <td>-0.123951</td>\n",
       "      <td>0.017269</td>\n",
       "      <td>0.065775</td>\n",
       "      <td>0.025562</td>\n",
       "      <td>0.015776</td>\n",
       "      <td>0.108846</td>\n",
       "      <td>0.299192</td>\n",
       "      <td>0.041912</td>\n",
       "      <td>-0.028842</td>\n",
       "      <td>0.091189</td>\n",
       "    </tr>\n",
       "  </tbody>\n",
       "</table>\n",
       "<p>5 rows × 102 columns</p>\n",
       "</div>"
      ],
      "text/plain": [
       "   GSM25349.CEL.gz  GSM25350.CEL.gz  GSM25356.CEL.gz  GSM25357.CEL.gz  \\\n",
       "0         0.365059        -0.012149        -0.327827        -0.116687   \n",
       "1        -0.136032        -0.257178        -0.027254         0.347260   \n",
       "2        -0.490556        -0.530031        -0.232926        -0.337577   \n",
       "3         0.418026         0.364847         0.042362         0.240113   \n",
       "4         0.018335        -0.022187        -0.115002         0.020611   \n",
       "\n",
       "   GSM25358.CEL.gz  GSM25359.CEL.gz  GSM25360.CEL.gz  GSM25361.CEL.gz  \\\n",
       "0        -0.170685        -0.220769        -0.211580        -0.198109   \n",
       "1         0.197144         0.053000        -0.324497        -0.238930   \n",
       "2        -0.262080        -0.540250        -0.288228        -0.120475   \n",
       "3         0.130720        -0.343165        -0.322852        -0.461611   \n",
       "4        -0.025980         0.090351        -0.019693        -0.088959   \n",
       "\n",
       "   GSM25377.CEL.gz  GSM25378.CEL.gz        ...         GSM48658.CEL.gz  \\\n",
       "0        -0.035849         0.096327        ...                0.239554   \n",
       "1        -0.337195         0.292678        ...               -0.008531   \n",
       "2         1.085317         0.878655        ...               -0.003613   \n",
       "3         0.073949        -0.027296        ...                0.021700   \n",
       "4         0.170104        -0.246015        ...               -0.123951   \n",
       "\n",
       "   GSM48660.CEL.gz  GSM48661.CEL.gz  GSM48662.CEL.gz  GSM48663.CEL.gz  \\\n",
       "0         0.296144         0.356331         0.608040        -0.280956   \n",
       "1         0.311485        -0.667259         0.013964         0.045706   \n",
       "2        -0.371451         0.026594        -0.659379        -0.328549   \n",
       "3         0.298814         0.000417         0.330612         0.585598   \n",
       "4         0.017269         0.065775         0.025562         0.015776   \n",
       "\n",
       "   GSM48664.CEL.gz  GSM48665.CEL.gz  GSM136725.CEL.gz  GSM136726.CEL.gz  \\\n",
       "0         0.141330        -0.013254          0.226624          0.547526   \n",
       "1        -0.056219         0.080203          0.442193          0.125379   \n",
       "2         0.166231         0.012716         -0.356936         -0.366887   \n",
       "3         0.210887         0.036463         -0.083972         -0.058733   \n",
       "4         0.108846         0.299192          0.041912         -0.028842   \n",
       "\n",
       "   GSM136727.CEL.gz  \n",
       "0         -0.128887  \n",
       "1          0.205564  \n",
       "2         -0.202251  \n",
       "3          0.191626  \n",
       "4          0.091189  \n",
       "\n",
       "[5 rows x 102 columns]"
      ]
     },
     "execution_count": 161,
     "metadata": {},
     "output_type": "execute_result"
    }
   ],
   "source": [
    "#your code here\n",
    "mean = exprsCEU.mean(axis=1)\n",
    "norm_exprsCEU = exprsCEU.sub(mean, axis=0)\n",
    "norm_exprsCEU.head()"
   ]
  },
  {
   "cell_type": "markdown",
   "metadata": {
    "deletable": true,
    "editable": true
   },
   "source": [
    "Using this mean normalized gene expression data, compute the projection to the first Principal Component (PC1).  \n",
    "\n",
    "**Hint**: Use the `numpy.linalg.svd()` function in the `numpy.linalg` module (or the `scipy.linalg.svd()` function in the `scipy.linalg` module) to apply an [singular value decomposition](http://en.wikipedia.org/wiki/Singular_value_decomposition) to a matrix.  "
   ]
  },
  {
   "cell_type": "code",
   "execution_count": 162,
   "metadata": {
    "collapsed": false,
    "deletable": true,
    "editable": true
   },
   "outputs": [],
   "source": [
    "#your code here\n",
    "U, s, V = lin.svd(norm_exprsCEU)\n",
    "PC1 = V[np.argmax(s)]"
   ]
  },
  {
   "cell_type": "markdown",
   "metadata": {
    "deletable": true,
    "editable": true
   },
   "source": [
    "Create a histogram using the values from PC1.  Use a bin size of 25.  "
   ]
  },
  {
   "cell_type": "code",
   "execution_count": 163,
   "metadata": {
    "collapsed": false,
    "deletable": true,
    "editable": true
   },
   "outputs": [
    {
     "data": {
      "text/plain": [
       "(array([  2.,   0.,   2.,   3.,  10.,   5.,   6.,   5.,   8.,   6.,   1.,\n",
       "          3.,   2.,   8.,   7.,   3.,   9.,   6.,   3.,   3.,   4.,   2.,\n",
       "          1.,   1.,   2.]),\n",
       " array([-0.19476468, -0.17820174, -0.1616388 , -0.14507587, -0.12851293,\n",
       "        -0.11194999, -0.09538705, -0.07882411, -0.06226117, -0.04569823,\n",
       "        -0.02913529, -0.01257235,  0.00399058,  0.02055352,  0.03711646,\n",
       "         0.0536794 ,  0.07024234,  0.08680528,  0.10336822,  0.11993116,\n",
       "         0.13649409,  0.15305703,  0.16961997,  0.18618291,  0.20274585,\n",
       "         0.21930879]),\n",
       " <a list of 25 Patch objects>)"
      ]
     },
     "execution_count": 163,
     "metadata": {},
     "output_type": "execute_result"
    },
    {
     "data": {
      "image/png": "[encoded data removed]",
      "text/plain": [
       "<matplotlib.figure.Figure at 0x1195cc050>"
      ]
     },
     "metadata": {},
     "output_type": "display_data"
    }
   ],
   "source": [
    "#your code here\n",
    "plt.hist(PC1, 25)"
   ]
  },
  {
   "cell_type": "markdown",
   "metadata": {
    "deletable": true,
    "editable": true
   },
   "source": [
    "Create a scatter plot with the days since October 31, 2002 on the x-axis and PC1 on the y-axis."
   ]
  },
  {
   "cell_type": "code",
   "execution_count": 164,
   "metadata": {
    "collapsed": false,
    "deletable": true,
    "editable": true
   },
   "outputs": [
    {
     "data": {
      "text/plain": [
       "<matplotlib.collections.PathCollection at 0x110319ed0>"
      ]
     },
     "execution_count": 164,
     "metadata": {},
     "output_type": "execute_result"
    },
    {
     "data": {
      "image/png": "[encoded data removed]",
      "text/plain": [
       "<matplotlib.figure.Figure at 0x11612e210>"
      ]
     },
     "metadata": {},
     "output_type": "display_data"
    }
   ],
   "source": [
    "#your code here\n",
    "plt.scatter(x=sampleinfoCEU['elapsedInDays'], y=PC1)"
   ]
  },
  {
   "cell_type": "markdown",
   "metadata": {
    "deletable": true,
    "editable": true
   },
   "source": [
    "Around what day do you notice a difference in the way the samples were processed?"
   ]
  },
  {
   "cell_type": "code",
   "execution_count": 165,
   "metadata": {
    "collapsed": false,
    "deletable": true,
    "editable": true
   },
   "outputs": [
    {
     "data": {
      "text/plain": [
       "(-10, 200)"
      ]
     },
     "execution_count": 165,
     "metadata": {},
     "output_type": "execute_result"
    },
    {
     "data": {
      "image/png": "[encoded data removed]",
      "text/plain": [
       "<matplotlib.figure.Figure at 0x13acc5c50>"
      ]
     },
     "metadata": {},
     "output_type": "display_data"
    }
   ],
   "source": [
    "#your code here\n",
    "plt.scatter(x=sampleinfoCEU['elapsedInDays'], y=PC1)\n",
    "plt.xlim(-10,200)"
   ]
  },
  {
   "cell_type": "markdown",
   "metadata": {
    "deletable": true,
    "editable": true
   },
   "source": [
    "Answer: 100 days"
   ]
  },
  {
   "cell_type": "markdown",
   "metadata": {
    "deletable": true,
    "editable": true
   },
   "source": [
    "## Discussion for Problem 1\n",
    "\n",
    "*Write a brief discussion of your conclusions to the questions and tasks above in 100 words or less.*\n",
    "\n",
    "---\n"
   ]
  },
  {
   "cell_type": "markdown",
   "metadata": {
    "deletable": true,
    "editable": true
   },
   "source": [
    "## Problem 2: Is there a pollster bias in presidential election polls?"
   ]
  },
  {
   "cell_type": "markdown",
   "metadata": {
    "deletable": true,
    "editable": true
   },
   "source": [
    "#### Problem 2(a)\n",
    "\n",
    "The [HuffPost Pollster](http://elections.huffingtonpost.com/pollster) contains many political polls. You can access these polls from individual races as a CSV but you can also access polls through the [HuffPost Pollster API](http://elections.huffingtonpost.com/pollster/api) to access the data.  \n",
    "\n",
    "Read in the polls from the [2012 Presidential Election: Barack Obama vs Mitt Romney](http://elections.huffingtonpost.com/pollster/2012-general-election-romney-vs-obama) into a pandas DataFrame called `election`. For this problem, you may read in the polls for this race directly using [the CSV file](http://elections.huffingtonpost.com/pollster/2012-general-election-romney-vs-obama.csv) available from the HuffPost Pollster page."
   ]
  },
  {
   "cell_type": "code",
   "execution_count": 200,
   "metadata": {
    "collapsed": false,
    "deletable": true,
    "editable": true
   },
   "outputs": [],
   "source": [
    "#your code here\n",
    "election_url = 'http://elections.huffingtonpost.com/pollster/2012-general-election-romney-vs-obama.csv'\n",
    "election = pd.read_csv(StringIO(requests.get(election_url).content))"
   ]
  },
  {
   "cell_type": "markdown",
   "metadata": {
    "deletable": true,
    "editable": true
   },
   "source": [
    "Show the head of the `election` DataFrame. "
   ]
  },
  {
   "cell_type": "code",
   "execution_count": 167,
   "metadata": {
    "collapsed": false,
    "deletable": true,
    "editable": true
   },
   "outputs": [
    {
     "data": {
      "text/html": [
       "<div>\n",
       "<table border=\"1\" class=\"dataframe\">\n",
       "  <thead>\n",
       "    <tr style=\"text-align: right;\">\n",
       "      <th></th>\n",
       "      <th>Pollster</th>\n",
       "      <th>Start Date</th>\n",
       "      <th>End Date</th>\n",
       "      <th>Entry Date/Time (ET)</th>\n",
       "      <th>Number of Observations</th>\n",
       "      <th>Population</th>\n",
       "      <th>Mode</th>\n",
       "      <th>Obama</th>\n",
       "      <th>Romney</th>\n",
       "      <th>Undecided</th>\n",
       "      <th>Other</th>\n",
       "      <th>Pollster URL</th>\n",
       "      <th>Source URL</th>\n",
       "      <th>Partisan</th>\n",
       "      <th>Affiliation</th>\n",
       "      <th>Question Text</th>\n",
       "      <th>Question Iteration</th>\n",
       "    </tr>\n",
       "  </thead>\n",
       "  <tbody>\n",
       "    <tr>\n",
       "      <th>0</th>\n",
       "      <td>Politico/GWU/Battleground</td>\n",
       "      <td>2012-11-04</td>\n",
       "      <td>2012-11-05</td>\n",
       "      <td>2012-11-06T08:40:26Z</td>\n",
       "      <td>1000.0</td>\n",
       "      <td>Likely Voters</td>\n",
       "      <td>Live Phone</td>\n",
       "      <td>47.0</td>\n",
       "      <td>47.0</td>\n",
       "      <td>6.0</td>\n",
       "      <td>NaN</td>\n",
       "      <td>http://elections.huffingtonpost.com/pollster/p...</td>\n",
       "      <td>http://www.politico.com/news/stories/1112/8338...</td>\n",
       "      <td>Nonpartisan</td>\n",
       "      <td>None</td>\n",
       "      <td>NaN</td>\n",
       "      <td>1</td>\n",
       "    </tr>\n",
       "    <tr>\n",
       "      <th>1</th>\n",
       "      <td>YouGov/Economist</td>\n",
       "      <td>2012-11-03</td>\n",
       "      <td>2012-11-05</td>\n",
       "      <td>2012-11-26T15:31:23Z</td>\n",
       "      <td>740.0</td>\n",
       "      <td>Likely Voters</td>\n",
       "      <td>Internet</td>\n",
       "      <td>49.0</td>\n",
       "      <td>47.0</td>\n",
       "      <td>3.0</td>\n",
       "      <td>NaN</td>\n",
       "      <td>http://elections.huffingtonpost.com/pollster/p...</td>\n",
       "      <td>http://cdn.yougov.com/cumulus_uploads/document...</td>\n",
       "      <td>Nonpartisan</td>\n",
       "      <td>None</td>\n",
       "      <td>NaN</td>\n",
       "      <td>1</td>\n",
       "    </tr>\n",
       "    <tr>\n",
       "      <th>2</th>\n",
       "      <td>Gravis Marketing</td>\n",
       "      <td>2012-11-03</td>\n",
       "      <td>2012-11-05</td>\n",
       "      <td>2012-11-06T09:22:02Z</td>\n",
       "      <td>872.0</td>\n",
       "      <td>Likely Voters</td>\n",
       "      <td>Automated Phone</td>\n",
       "      <td>48.0</td>\n",
       "      <td>48.0</td>\n",
       "      <td>4.0</td>\n",
       "      <td>NaN</td>\n",
       "      <td>http://elections.huffingtonpost.com/pollster/p...</td>\n",
       "      <td>http://www.gravispolls.com/2012/11/gravis-mark...</td>\n",
       "      <td>Nonpartisan</td>\n",
       "      <td>None</td>\n",
       "      <td>NaN</td>\n",
       "      <td>1</td>\n",
       "    </tr>\n",
       "    <tr>\n",
       "      <th>3</th>\n",
       "      <td>IBD/TIPP</td>\n",
       "      <td>2012-11-03</td>\n",
       "      <td>2012-11-05</td>\n",
       "      <td>2012-11-06T08:51:48Z</td>\n",
       "      <td>712.0</td>\n",
       "      <td>Likely Voters</td>\n",
       "      <td>Live Phone</td>\n",
       "      <td>50.0</td>\n",
       "      <td>49.0</td>\n",
       "      <td>NaN</td>\n",
       "      <td>1.0</td>\n",
       "      <td>http://elections.huffingtonpost.com/pollster/p...</td>\n",
       "      <td>http://news.investors.com/special-report/50841...</td>\n",
       "      <td>Nonpartisan</td>\n",
       "      <td>None</td>\n",
       "      <td>NaN</td>\n",
       "      <td>1</td>\n",
       "    </tr>\n",
       "    <tr>\n",
       "      <th>4</th>\n",
       "      <td>Rasmussen</td>\n",
       "      <td>2012-11-03</td>\n",
       "      <td>2012-11-05</td>\n",
       "      <td>2012-11-06T08:47:50Z</td>\n",
       "      <td>1500.0</td>\n",
       "      <td>Likely Voters</td>\n",
       "      <td>Automated Phone</td>\n",
       "      <td>48.0</td>\n",
       "      <td>49.0</td>\n",
       "      <td>NaN</td>\n",
       "      <td>NaN</td>\n",
       "      <td>http://elections.huffingtonpost.com/pollster/p...</td>\n",
       "      <td>http://www.rasmussenreports.com/public_content...</td>\n",
       "      <td>Nonpartisan</td>\n",
       "      <td>None</td>\n",
       "      <td>NaN</td>\n",
       "      <td>1</td>\n",
       "    </tr>\n",
       "  </tbody>\n",
       "</table>\n",
       "</div>"
      ],
      "text/plain": [
       "                    Pollster  Start Date    End Date  Entry Date/Time (ET)  \\\n",
       "0  Politico/GWU/Battleground  2012-11-04  2012-11-05  2012-11-06T08:40:26Z   \n",
       "1           YouGov/Economist  2012-11-03  2012-11-05  2012-11-26T15:31:23Z   \n",
       "2           Gravis Marketing  2012-11-03  2012-11-05  2012-11-06T09:22:02Z   \n",
       "3                   IBD/TIPP  2012-11-03  2012-11-05  2012-11-06T08:51:48Z   \n",
       "4                  Rasmussen  2012-11-03  2012-11-05  2012-11-06T08:47:50Z   \n",
       "\n",
       "   Number of Observations     Population             Mode  Obama  Romney  \\\n",
       "0                  1000.0  Likely Voters       Live Phone   47.0    47.0   \n",
       "1                   740.0  Likely Voters         Internet   49.0    47.0   \n",
       "2                   872.0  Likely Voters  Automated Phone   48.0    48.0   \n",
       "3                   712.0  Likely Voters       Live Phone   50.0    49.0   \n",
       "4                  1500.0  Likely Voters  Automated Phone   48.0    49.0   \n",
       "\n",
       "   Undecided  Other                                       Pollster URL  \\\n",
       "0        6.0    NaN  http://elections.huffingtonpost.com/pollster/p...   \n",
       "1        3.0    NaN  http://elections.huffingtonpost.com/pollster/p...   \n",
       "2        4.0    NaN  http://elections.huffingtonpost.com/pollster/p...   \n",
       "3        NaN    1.0  http://elections.huffingtonpost.com/pollster/p...   \n",
       "4        NaN    NaN  http://elections.huffingtonpost.com/pollster/p...   \n",
       "\n",
       "                                          Source URL     Partisan Affiliation  \\\n",
       "0  http://www.politico.com/news/stories/1112/8338...  Nonpartisan        None   \n",
       "1  http://cdn.yougov.com/cumulus_uploads/document...  Nonpartisan        None   \n",
       "2  http://www.gravispolls.com/2012/11/gravis-mark...  Nonpartisan        None   \n",
       "3  http://news.investors.com/special-report/50841...  Nonpartisan        None   \n",
       "4  http://www.rasmussenreports.com/public_content...  Nonpartisan        None   \n",
       "\n",
       "   Question Text  Question Iteration  \n",
       "0            NaN                   1  \n",
       "1            NaN                   1  \n",
       "2            NaN                   1  \n",
       "3            NaN                   1  \n",
       "4            NaN                   1  "
      ]
     },
     "execution_count": 167,
     "metadata": {},
     "output_type": "execute_result"
    }
   ],
   "source": [
    "#your code here\n",
    "election.head()"
   ]
  },
  {
   "cell_type": "markdown",
   "metadata": {
    "deletable": true,
    "editable": true
   },
   "source": [
    "How many polls were conducted in November? Define this number as M.  \n",
    "\n",
    "**Hint**: Subset the `election` DataFrame for only dates in the `Start Date` column that are in November 2012.  "
   ]
  },
  {
   "cell_type": "code",
   "execution_count": 168,
   "metadata": {
    "collapsed": false,
    "deletable": true,
    "editable": true
   },
   "outputs": [
    {
     "name": "stdout",
     "output_type": "stream",
     "text": [
      "19\n"
     ]
    }
   ],
   "source": [
    "#your code here\n",
    "election['Start Date'] = pd.to_datetime(election['Start Date'])\n",
    "polls_in_november = election[(election['Start Date'].dt.year == 2012) & (election['Start Date'].dt.month == 11)]\n",
    "M=polls_in_november['Pollster'].count()\n",
    "print(M)"
   ]
  },
  {
   "cell_type": "markdown",
   "metadata": {
    "deletable": true,
    "editable": true
   },
   "source": [
    "Answer: 19"
   ]
  },
  {
   "cell_type": "markdown",
   "metadata": {
    "deletable": true,
    "editable": true
   },
   "source": [
    "What was the median of the number of observations in the November polls? Define this quantity as N. "
   ]
  },
  {
   "cell_type": "code",
   "execution_count": 169,
   "metadata": {
    "collapsed": false,
    "deletable": true,
    "editable": true
   },
   "outputs": [
    {
     "name": "stdout",
     "output_type": "stream",
     "text": [
      "1200\n"
     ]
    }
   ],
   "source": [
    "#your code here\n",
    "N=int(polls_in_november['Number of Observations'].median())\n",
    "print(N)"
   ]
  },
  {
   "cell_type": "markdown",
   "metadata": {
    "deletable": true,
    "editable": true
   },
   "source": [
    "Answer: 1,200"
   ]
  },
  {
   "cell_type": "markdown",
   "metadata": {
    "deletable": true,
    "editable": true
   },
   "source": [
    "#### Problem 2(b)\n",
    "\n",
    "Using the median sample size $N$ from Problem 2(a), simulate the results from a single poll:  simulate the number of votes for Obama out of a sample size $N$ where $p$ = 0.53 is the percent of voters who are voting for Obama.  \n",
    "\n",
    "**Hint**: Use the binomial distribution with parameters $N$ and $p$ = 0.53. "
   ]
  },
  {
   "cell_type": "code",
   "execution_count": 170,
   "metadata": {
    "collapsed": false,
    "deletable": true,
    "editable": true
   },
   "outputs": [
    {
     "data": {
      "text/plain": [
       "array([636])"
      ]
     },
     "execution_count": 170,
     "metadata": {},
     "output_type": "execute_result"
    }
   ],
   "source": [
    "#your code here\n",
    "p = .53\n",
    "np.random.binomial(N, p, size=1)"
   ]
  },
  {
   "cell_type": "markdown",
   "metadata": {
    "deletable": true,
    "editable": true
   },
   "source": [
    "Now, perform a Monte Carlo simulation to obtain the estimated percentage of Obama votes with a sample size $N$ where $N$ is the median sample size calculated in Problem 2(a). Let $p$=0.53 be the percent of voters are voting for Obama. \n",
    "\n",
    "**Hint**: You will repeat the simulation above 1,000 times and plot the distribution of the estimated *percent* of Obama votes from a single poll.  The results from the single poll you simulate is random variable and will be different every time you sample. "
   ]
  },
  {
   "cell_type": "code",
   "execution_count": 171,
   "metadata": {
    "collapsed": false,
    "deletable": true,
    "editable": true,
    "scrolled": true
   },
   "outputs": [],
   "source": [
    "#your code here\n",
    "monte_carlo = map(lambda x:np.mean(np.random.binomial(1, p, size=N)), xrange(1000))"
   ]
  },
  {
   "cell_type": "markdown",
   "metadata": {
    "deletable": true,
    "editable": true
   },
   "source": [
    "Plot the distribution of the estimated percentage of Obama votes from your single poll. What is the distribution of the estimated percentage of Obama votes? "
   ]
  },
  {
   "cell_type": "code",
   "execution_count": 172,
   "metadata": {
    "collapsed": false,
    "deletable": true,
    "editable": true
   },
   "outputs": [
    {
     "data": {
      "image/png": "[encoded data removed]",
      "text/plain": [
       "<matplotlib.figure.Figure at 0x11602a5d0>"
      ]
     },
     "metadata": {},
     "output_type": "display_data"
    }
   ],
   "source": [
    "#your code here\n",
    "plt.hist(monte_carlo, bins=50)\n",
    "plt.show()"
   ]
  },
  {
   "cell_type": "code",
   "execution_count": 173,
   "metadata": {
    "collapsed": false,
    "deletable": true,
    "editable": true
   },
   "outputs": [
    {
     "data": {
      "image/png": "[encoded data removed]",
      "text/plain": [
       "<matplotlib.figure.Figure at 0x119469790>"
      ]
     },
     "metadata": {},
     "output_type": "display_data"
    }
   ],
   "source": [
    "z = (monte_carlo - np.mean(monte_carlo))/np.std(monte_carlo)\n",
    "stats.probplot(z, dist='norm', plot=plt)\n",
    "plt.show()"
   ]
  },
  {
   "cell_type": "markdown",
   "metadata": {
    "deletable": true,
    "editable": true
   },
   "source": [
    "Answer: Normal Distribution of the estimated percentage of Obama votes"
   ]
  },
  {
   "cell_type": "markdown",
   "metadata": {
    "deletable": true,
    "editable": true
   },
   "source": [
    "What is the standard error (SE) of the estimated percentage from the poll. \n",
    "\n",
    "**Hint**: Remember the SE is the standard deviation (SD) of the distribution of a random variable. "
   ]
  },
  {
   "cell_type": "code",
   "execution_count": 174,
   "metadata": {
    "collapsed": false,
    "deletable": true,
    "editable": true
   },
   "outputs": [
    {
     "name": "stdout",
     "output_type": "stream",
     "text": [
      "Mean is 0.529616666667 and SE is 0.0146889603293\n"
     ]
    }
   ],
   "source": [
    "#your code here\n",
    "mean = np.mean(monte_carlo)\n",
    "SE = np.std(monte_carlo)\n",
    "print(\"Mean is \" + str(mean) + \" and SE is \" + str(SE))"
   ]
  },
  {
   "cell_type": "markdown",
   "metadata": {
    "deletable": true,
    "editable": true
   },
   "source": [
    "#### Problem 2(c)\n",
    "\n",
    "Now suppose we run M polls where M is the number of polls that happened in November (calculated in Problem 2(a)). Run 1,000 simulations and compute the mean of the M polls for each simulation. "
   ]
  },
  {
   "cell_type": "code",
   "execution_count": 175,
   "metadata": {
    "collapsed": false,
    "deletable": true,
    "editable": true
   },
   "outputs": [],
   "source": [
    "#your code here\n",
    "def probabilities(probability, sample_size, samples):\n",
    "    return map(lambda x: np.mean(np.random.binomial(1, probability, size=sample_size)), xrange(samples))\n",
    "\n",
    "mean_values = map(lambda x: np.mean(probabilities(.53, 1200, 18)), xrange(1000))"
   ]
  },
  {
   "cell_type": "markdown",
   "metadata": {
    "deletable": true,
    "editable": true
   },
   "source": [
    "What is the distribution of the average of polls?\n",
    "\n",
    "**Hint**: Show a plot. "
   ]
  },
  {
   "cell_type": "code",
   "execution_count": 176,
   "metadata": {
    "collapsed": false,
    "deletable": true,
    "editable": true
   },
   "outputs": [],
   "source": [
    "#your code here"
   ]
  },
  {
   "cell_type": "code",
   "execution_count": 177,
   "metadata": {
    "collapsed": false,
    "deletable": true,
    "editable": true
   },
   "outputs": [
    {
     "data": {
      "image/png": "[encoded data removed]",
      "text/plain": [
       "<matplotlib.figure.Figure at 0x110443110>"
      ]
     },
     "metadata": {},
     "output_type": "display_data"
    }
   ],
   "source": [
    "plt.hist(mean_values, bins=10)\n",
    "plt.show()"
   ]
  },
  {
   "cell_type": "code",
   "execution_count": 178,
   "metadata": {
    "collapsed": false,
    "deletable": true,
    "editable": true
   },
   "outputs": [
    {
     "data": {
      "image/png": "[encoded data removed]",
      "text/plain": [
       "<matplotlib.figure.Figure at 0x13b0f0410>"
      ]
     },
     "metadata": {},
     "output_type": "display_data"
    }
   ],
   "source": [
    "stats.probplot((mean_values - np.mean(mean_values))/np.std(mean_values), dist='norm', plot=plt)\n",
    "plt.show()"
   ]
  },
  {
   "cell_type": "markdown",
   "metadata": {
    "deletable": true,
    "editable": true
   },
   "source": [
    "Answer: Normal distribution"
   ]
  },
  {
   "cell_type": "markdown",
   "metadata": {
    "deletable": true,
    "editable": true
   },
   "source": [
    "What is the standard error (SE) of the average of polls? "
   ]
  },
  {
   "cell_type": "code",
   "execution_count": 179,
   "metadata": {
    "collapsed": false,
    "deletable": true,
    "editable": true
   },
   "outputs": [
    {
     "name": "stdout",
     "output_type": "stream",
     "text": [
      "Standard Error: 0.0146889603293\n"
     ]
    }
   ],
   "source": [
    "#your code here\n",
    "many_SE = np.std(mean_values)\n",
    "print(\"Standard Error: \" + str(SE))"
   ]
  },
  {
   "cell_type": "markdown",
   "metadata": {
    "deletable": true,
    "editable": true
   },
   "source": [
    "Is the SE of the average of polls larger, the same, or smaller than that the SD of a single poll (calculated in Problem 2(b))? By how much?\n",
    "\n",
    "**Hint**: Compute a ratio of the two quantities.  "
   ]
  },
  {
   "cell_type": "code",
   "execution_count": 180,
   "metadata": {
    "collapsed": false,
    "deletable": true,
    "editable": true
   },
   "outputs": [
    {
     "name": "stdout",
     "output_type": "stream",
     "text": [
      "single poll has larger SE and the ratio of single to average of multiple is 0.23228437268\n"
     ]
    }
   ],
   "source": [
    "#your code here\n",
    "SE_ratio = many_SE/SE\n",
    "print('single poll has larger SE and the ratio of single to average of multiple is ' + str(SE_ratio))"
   ]
  },
  {
   "cell_type": "markdown",
   "metadata": {
    "deletable": true,
    "editable": true
   },
   "source": [
    "#### Problem 2(d) \n",
    "\n",
    "Repeat Problem 2(c) but now record the *across poll* standard deviation in each simulation. "
   ]
  },
  {
   "cell_type": "code",
   "execution_count": 181,
   "metadata": {
    "collapsed": false,
    "deletable": true,
    "editable": true
   },
   "outputs": [],
   "source": [
    "#your code here\n",
    "std_values = map(lambda x: np.std(probabilities(.53, 1200, 18)), xrange(1000))"
   ]
  },
  {
   "cell_type": "markdown",
   "metadata": {
    "deletable": true,
    "editable": true
   },
   "source": [
    "What is the distribution of the *across M polls* standard deviation?\n",
    "\n",
    "**Hint**: Show a plot. "
   ]
  },
  {
   "cell_type": "code",
   "execution_count": 182,
   "metadata": {
    "collapsed": false,
    "deletable": true,
    "editable": true
   },
   "outputs": [],
   "source": [
    "#your code here"
   ]
  },
  {
   "cell_type": "code",
   "execution_count": 183,
   "metadata": {
    "collapsed": false
   },
   "outputs": [
    {
     "data": {
      "image/png": "[encoded data removed]",
      "text/plain": [
       "<matplotlib.figure.Figure at 0x115f05a50>"
      ]
     },
     "metadata": {},
     "output_type": "display_data"
    }
   ],
   "source": [
    "plt.hist(std_values, bins=10)\n",
    "plt.show()"
   ]
  },
  {
   "cell_type": "code",
   "execution_count": 184,
   "metadata": {
    "collapsed": false
   },
   "outputs": [
    {
     "data": {
      "image/png": "[encoded data removed]",
      "text/plain": [
       "<matplotlib.figure.Figure at 0x119145050>"
      ]
     },
     "metadata": {},
     "output_type": "display_data"
    }
   ],
   "source": [
    "stats.probplot((mean_values - np.mean(mean_values))/np.std(mean_values), dist='norm', plot=plt)\n",
    "plt.show()"
   ]
  },
  {
   "cell_type": "markdown",
   "metadata": {
    "deletable": true,
    "editable": true
   },
   "source": [
    "Answer: Using the histogram and qqplot, we see that the distribution across M polls standard deviation is normal."
   ]
  },
  {
   "cell_type": "markdown",
   "metadata": {
    "deletable": true,
    "editable": true
   },
   "source": [
    "#### Problem 2(e) \n",
    "\n",
    "What is the standard deviation of M polls in our real (not simulated) 2012 presidential election data ? "
   ]
  },
  {
   "cell_type": "code",
   "execution_count": 185,
   "metadata": {
    "collapsed": false,
    "deletable": true,
    "editable": true
   },
   "outputs": [
    {
     "data": {
      "text/plain": [
       "<matplotlib.axes._subplots.AxesSubplot at 0x119351e90>"
      ]
     },
     "execution_count": 185,
     "metadata": {},
     "output_type": "execute_result"
    },
    {
     "data": {
      "image/png": "[encoded data removed]",
      "text/plain": [
       "<matplotlib.figure.Figure at 0x119376450>"
      ]
     },
     "metadata": {},
     "output_type": "display_data"
    }
   ],
   "source": [
    "#your code here\n",
    "(polls_in_november['Obama']/100).hist()"
   ]
  },
  {
   "cell_type": "code",
   "execution_count": 186,
   "metadata": {
    "collapsed": false
   },
   "outputs": [
    {
     "name": "stdout",
     "output_type": "stream",
     "text": [
      "Standard deviation of real polls is 0.0105525987662\n"
     ]
    }
   ],
   "source": [
    "real_std = np.std(polls_in_november['Obama']/100)\n",
    "print(\"Standard deviation of real polls is \" + str(real_std))"
   ]
  },
  {
   "cell_type": "markdown",
   "metadata": {
    "deletable": true,
    "editable": true
   },
   "source": [
    "Is this larger, the same, or smaller than what we expeced if polls were not biased."
   ]
  },
  {
   "cell_type": "code",
   "execution_count": 187,
   "metadata": {
    "collapsed": false,
    "deletable": true,
    "editable": true
   },
   "outputs": [
    {
     "data": {
      "text/plain": [
       "0.76376573259472591"
      ]
     },
     "execution_count": 187,
     "metadata": {},
     "output_type": "execute_result"
    }
   ],
   "source": [
    "#your code here\n",
    "real_std/np.mean(std_values)"
   ]
  },
  {
   "cell_type": "markdown",
   "metadata": {
    "deletable": true,
    "editable": true
   },
   "source": [
    "Answer: Actual standard deviation is less than the standard deviation if the polls had no bias"
   ]
  },
  {
   "cell_type": "markdown",
   "metadata": {
    "deletable": true,
    "editable": true
   },
   "source": [
    "#### Problem 2(f)\n",
    "\n",
    "**For AC209 Students**: Learn about the normal approximation for the binomial distribution and derive the results of Problem 2(b) and 2(c) analytically (using this approximation). Compare the results obtained analytically to those obtained from simulations."
   ]
  },
  {
   "cell_type": "code",
   "execution_count": 188,
   "metadata": {
    "collapsed": false,
    "deletable": true,
    "editable": true
   },
   "outputs": [],
   "source": [
    "#your code here"
   ]
  },
  {
   "cell_type": "markdown",
   "metadata": {
    "deletable": true,
    "editable": true
   },
   "source": [
    "Answer: "
   ]
  },
  {
   "cell_type": "markdown",
   "metadata": {
    "deletable": true,
    "editable": true
   },
   "source": [
    "## Discussion for Problem 2\n",
    "\n",
    "*Write a brief discussion of your conclusions to the questions and tasks above in 100 words or less.*\n",
    "\n",
    "---\n"
   ]
  },
  {
   "cell_type": "markdown",
   "metadata": {
    "deletable": true,
    "editable": true
   },
   "source": [
    "## Problem 3: Is the average of polls better than just one poll?"
   ]
  },
  {
   "cell_type": "markdown",
   "metadata": {
    "deletable": true,
    "editable": true
   },
   "source": [
    "#### Problem 3(a)\n",
    "\n",
    "Most undecided voters vote for one of the two candidates at the election. Therefore, the reported percentages underestimate the final value of both candidates. However, if we assume the undecided will split evenly, then the observed difference should be an unbiased estimate of the final difference. \n",
    "\n",
    "Add a new column to the `election` DataFrame containg the difference between Obama and Romney called `Diff`. "
   ]
  },
  {
   "cell_type": "code",
   "execution_count": 206,
   "metadata": {
    "collapsed": false,
    "deletable": true,
    "editable": true
   },
   "outputs": [
    {
     "data": {
      "text/html": [
       "<div>\n",
       "<table border=\"1\" class=\"dataframe\">\n",
       "  <thead>\n",
       "    <tr style=\"text-align: right;\">\n",
       "      <th></th>\n",
       "      <th>Pollster</th>\n",
       "      <th>Start Date</th>\n",
       "      <th>End Date</th>\n",
       "      <th>Entry Date/Time (ET)</th>\n",
       "      <th>Number of Observations</th>\n",
       "      <th>Population</th>\n",
       "      <th>Mode</th>\n",
       "      <th>Obama</th>\n",
       "      <th>Romney</th>\n",
       "      <th>Undecided</th>\n",
       "      <th>Other</th>\n",
       "      <th>Pollster URL</th>\n",
       "      <th>Source URL</th>\n",
       "      <th>Partisan</th>\n",
       "      <th>Affiliation</th>\n",
       "      <th>Question Text</th>\n",
       "      <th>Question Iteration</th>\n",
       "      <th>Days</th>\n",
       "      <th>Diff</th>\n",
       "    </tr>\n",
       "  </thead>\n",
       "  <tbody>\n",
       "    <tr>\n",
       "      <th>0</th>\n",
       "      <td>Politico/GWU/Battleground</td>\n",
       "      <td>2012-11-04</td>\n",
       "      <td>2012-11-05</td>\n",
       "      <td>2012-11-06T08:40:26Z</td>\n",
       "      <td>1000.0</td>\n",
       "      <td>Likely Voters</td>\n",
       "      <td>Live Phone</td>\n",
       "      <td>47.0</td>\n",
       "      <td>47.0</td>\n",
       "      <td>6.0</td>\n",
       "      <td>NaN</td>\n",
       "      <td>http://elections.huffingtonpost.com/pollster/p...</td>\n",
       "      <td>http://www.politico.com/news/stories/1112/8338...</td>\n",
       "      <td>Nonpartisan</td>\n",
       "      <td>None</td>\n",
       "      <td>NaN</td>\n",
       "      <td>1</td>\n",
       "      <td>0</td>\n",
       "      <td>0.0</td>\n",
       "    </tr>\n",
       "    <tr>\n",
       "      <th>1</th>\n",
       "      <td>YouGov/Economist</td>\n",
       "      <td>2012-11-03</td>\n",
       "      <td>2012-11-05</td>\n",
       "      <td>2012-11-26T15:31:23Z</td>\n",
       "      <td>740.0</td>\n",
       "      <td>Likely Voters</td>\n",
       "      <td>Internet</td>\n",
       "      <td>49.0</td>\n",
       "      <td>47.0</td>\n",
       "      <td>3.0</td>\n",
       "      <td>NaN</td>\n",
       "      <td>http://elections.huffingtonpost.com/pollster/p...</td>\n",
       "      <td>http://cdn.yougov.com/cumulus_uploads/document...</td>\n",
       "      <td>Nonpartisan</td>\n",
       "      <td>None</td>\n",
       "      <td>NaN</td>\n",
       "      <td>1</td>\n",
       "      <td>1</td>\n",
       "      <td>2.0</td>\n",
       "    </tr>\n",
       "    <tr>\n",
       "      <th>2</th>\n",
       "      <td>Gravis Marketing</td>\n",
       "      <td>2012-11-03</td>\n",
       "      <td>2012-11-05</td>\n",
       "      <td>2012-11-06T09:22:02Z</td>\n",
       "      <td>872.0</td>\n",
       "      <td>Likely Voters</td>\n",
       "      <td>Automated Phone</td>\n",
       "      <td>48.0</td>\n",
       "      <td>48.0</td>\n",
       "      <td>4.0</td>\n",
       "      <td>NaN</td>\n",
       "      <td>http://elections.huffingtonpost.com/pollster/p...</td>\n",
       "      <td>http://www.gravispolls.com/2012/11/gravis-mark...</td>\n",
       "      <td>Nonpartisan</td>\n",
       "      <td>None</td>\n",
       "      <td>NaN</td>\n",
       "      <td>1</td>\n",
       "      <td>1</td>\n",
       "      <td>0.0</td>\n",
       "    </tr>\n",
       "    <tr>\n",
       "      <th>3</th>\n",
       "      <td>IBD/TIPP</td>\n",
       "      <td>2012-11-03</td>\n",
       "      <td>2012-11-05</td>\n",
       "      <td>2012-11-06T08:51:48Z</td>\n",
       "      <td>712.0</td>\n",
       "      <td>Likely Voters</td>\n",
       "      <td>Live Phone</td>\n",
       "      <td>50.0</td>\n",
       "      <td>49.0</td>\n",
       "      <td>NaN</td>\n",
       "      <td>1.0</td>\n",
       "      <td>http://elections.huffingtonpost.com/pollster/p...</td>\n",
       "      <td>http://news.investors.com/special-report/50841...</td>\n",
       "      <td>Nonpartisan</td>\n",
       "      <td>None</td>\n",
       "      <td>NaN</td>\n",
       "      <td>1</td>\n",
       "      <td>1</td>\n",
       "      <td>1.0</td>\n",
       "    </tr>\n",
       "    <tr>\n",
       "      <th>4</th>\n",
       "      <td>Rasmussen</td>\n",
       "      <td>2012-11-03</td>\n",
       "      <td>2012-11-05</td>\n",
       "      <td>2012-11-06T08:47:50Z</td>\n",
       "      <td>1500.0</td>\n",
       "      <td>Likely Voters</td>\n",
       "      <td>Automated Phone</td>\n",
       "      <td>48.0</td>\n",
       "      <td>49.0</td>\n",
       "      <td>NaN</td>\n",
       "      <td>NaN</td>\n",
       "      <td>http://elections.huffingtonpost.com/pollster/p...</td>\n",
       "      <td>http://www.rasmussenreports.com/public_content...</td>\n",
       "      <td>Nonpartisan</td>\n",
       "      <td>None</td>\n",
       "      <td>NaN</td>\n",
       "      <td>1</td>\n",
       "      <td>1</td>\n",
       "      <td>-1.0</td>\n",
       "    </tr>\n",
       "  </tbody>\n",
       "</table>\n",
       "</div>"
      ],
      "text/plain": [
       "                    Pollster Start Date    End Date  Entry Date/Time (ET)  \\\n",
       "0  Politico/GWU/Battleground 2012-11-04  2012-11-05  2012-11-06T08:40:26Z   \n",
       "1           YouGov/Economist 2012-11-03  2012-11-05  2012-11-26T15:31:23Z   \n",
       "2           Gravis Marketing 2012-11-03  2012-11-05  2012-11-06T09:22:02Z   \n",
       "3                   IBD/TIPP 2012-11-03  2012-11-05  2012-11-06T08:51:48Z   \n",
       "4                  Rasmussen 2012-11-03  2012-11-05  2012-11-06T08:47:50Z   \n",
       "\n",
       "   Number of Observations     Population             Mode  Obama  Romney  \\\n",
       "0                  1000.0  Likely Voters       Live Phone   47.0    47.0   \n",
       "1                   740.0  Likely Voters         Internet   49.0    47.0   \n",
       "2                   872.0  Likely Voters  Automated Phone   48.0    48.0   \n",
       "3                   712.0  Likely Voters       Live Phone   50.0    49.0   \n",
       "4                  1500.0  Likely Voters  Automated Phone   48.0    49.0   \n",
       "\n",
       "   Undecided  Other                                       Pollster URL  \\\n",
       "0        6.0    NaN  http://elections.huffingtonpost.com/pollster/p...   \n",
       "1        3.0    NaN  http://elections.huffingtonpost.com/pollster/p...   \n",
       "2        4.0    NaN  http://elections.huffingtonpost.com/pollster/p...   \n",
       "3        NaN    1.0  http://elections.huffingtonpost.com/pollster/p...   \n",
       "4        NaN    NaN  http://elections.huffingtonpost.com/pollster/p...   \n",
       "\n",
       "                                          Source URL     Partisan Affiliation  \\\n",
       "0  http://www.politico.com/news/stories/1112/8338...  Nonpartisan        None   \n",
       "1  http://cdn.yougov.com/cumulus_uploads/document...  Nonpartisan        None   \n",
       "2  http://www.gravispolls.com/2012/11/gravis-mark...  Nonpartisan        None   \n",
       "3  http://news.investors.com/special-report/50841...  Nonpartisan        None   \n",
       "4  http://www.rasmussenreports.com/public_content...  Nonpartisan        None   \n",
       "\n",
       "   Question Text  Question Iteration  Days  Diff  \n",
       "0            NaN                   1     0   0.0  \n",
       "1            NaN                   1     1   2.0  \n",
       "2            NaN                   1     1   0.0  \n",
       "3            NaN                   1     1   1.0  \n",
       "4            NaN                   1     1  -1.0  "
      ]
     },
     "execution_count": 206,
     "metadata": {},
     "output_type": "execute_result"
    }
   ],
   "source": [
    "#your code here\n",
    "election['Diff'] = election['Obama'] - election['Romney']\n",
    "election.head()"
   ]
  },
  {
   "cell_type": "markdown",
   "metadata": {
    "deletable": true,
    "editable": true
   },
   "source": [
    "#### Problem 3(b)\n",
    "\n",
    "Make a plot of the differences for the week before the election (e.g. 5 days) where the days are on the x-axis and the differences are on the y-axis.  Add a horizontal line showing 3.9%: the difference between Obama and Romney on election day."
   ]
  },
  {
   "cell_type": "code",
   "execution_count": 214,
   "metadata": {
    "collapsed": false,
    "deletable": true,
    "editable": true
   },
   "outputs": [
    {
     "data": {
      "text/html": [
       "<div>\n",
       "<table border=\"1\" class=\"dataframe\">\n",
       "  <thead>\n",
       "    <tr style=\"text-align: right;\">\n",
       "      <th></th>\n",
       "      <th>Pollster</th>\n",
       "      <th>Start Date</th>\n",
       "      <th>End Date</th>\n",
       "      <th>Entry Date/Time (ET)</th>\n",
       "      <th>Number of Observations</th>\n",
       "      <th>Population</th>\n",
       "      <th>Mode</th>\n",
       "      <th>Obama</th>\n",
       "      <th>Romney</th>\n",
       "      <th>Undecided</th>\n",
       "      <th>Other</th>\n",
       "      <th>Pollster URL</th>\n",
       "      <th>Source URL</th>\n",
       "      <th>Partisan</th>\n",
       "      <th>Affiliation</th>\n",
       "      <th>Question Text</th>\n",
       "      <th>Question Iteration</th>\n",
       "      <th>Days</th>\n",
       "      <th>Diff</th>\n",
       "    </tr>\n",
       "  </thead>\n",
       "  <tbody>\n",
       "    <tr>\n",
       "      <th>0</th>\n",
       "      <td>Politico/GWU/Battleground</td>\n",
       "      <td>2012-11-04</td>\n",
       "      <td>2012-11-05</td>\n",
       "      <td>2012-11-06T08:40:26Z</td>\n",
       "      <td>1000.0</td>\n",
       "      <td>Likely Voters</td>\n",
       "      <td>Live Phone</td>\n",
       "      <td>47.0</td>\n",
       "      <td>47.0</td>\n",
       "      <td>6.0</td>\n",
       "      <td>NaN</td>\n",
       "      <td>http://elections.huffingtonpost.com/pollster/p...</td>\n",
       "      <td>http://www.politico.com/news/stories/1112/8338...</td>\n",
       "      <td>Nonpartisan</td>\n",
       "      <td>None</td>\n",
       "      <td>NaN</td>\n",
       "      <td>1</td>\n",
       "      <td>0</td>\n",
       "      <td>0.0</td>\n",
       "    </tr>\n",
       "    <tr>\n",
       "      <th>1</th>\n",
       "      <td>YouGov/Economist</td>\n",
       "      <td>2012-11-03</td>\n",
       "      <td>2012-11-05</td>\n",
       "      <td>2012-11-26T15:31:23Z</td>\n",
       "      <td>740.0</td>\n",
       "      <td>Likely Voters</td>\n",
       "      <td>Internet</td>\n",
       "      <td>49.0</td>\n",
       "      <td>47.0</td>\n",
       "      <td>3.0</td>\n",
       "      <td>NaN</td>\n",
       "      <td>http://elections.huffingtonpost.com/pollster/p...</td>\n",
       "      <td>http://cdn.yougov.com/cumulus_uploads/document...</td>\n",
       "      <td>Nonpartisan</td>\n",
       "      <td>None</td>\n",
       "      <td>NaN</td>\n",
       "      <td>1</td>\n",
       "      <td>1</td>\n",
       "      <td>2.0</td>\n",
       "    </tr>\n",
       "    <tr>\n",
       "      <th>2</th>\n",
       "      <td>Gravis Marketing</td>\n",
       "      <td>2012-11-03</td>\n",
       "      <td>2012-11-05</td>\n",
       "      <td>2012-11-06T09:22:02Z</td>\n",
       "      <td>872.0</td>\n",
       "      <td>Likely Voters</td>\n",
       "      <td>Automated Phone</td>\n",
       "      <td>48.0</td>\n",
       "      <td>48.0</td>\n",
       "      <td>4.0</td>\n",
       "      <td>NaN</td>\n",
       "      <td>http://elections.huffingtonpost.com/pollster/p...</td>\n",
       "      <td>http://www.gravispolls.com/2012/11/gravis-mark...</td>\n",
       "      <td>Nonpartisan</td>\n",
       "      <td>None</td>\n",
       "      <td>NaN</td>\n",
       "      <td>1</td>\n",
       "      <td>1</td>\n",
       "      <td>0.0</td>\n",
       "    </tr>\n",
       "    <tr>\n",
       "      <th>3</th>\n",
       "      <td>IBD/TIPP</td>\n",
       "      <td>2012-11-03</td>\n",
       "      <td>2012-11-05</td>\n",
       "      <td>2012-11-06T08:51:48Z</td>\n",
       "      <td>712.0</td>\n",
       "      <td>Likely Voters</td>\n",
       "      <td>Live Phone</td>\n",
       "      <td>50.0</td>\n",
       "      <td>49.0</td>\n",
       "      <td>NaN</td>\n",
       "      <td>1.0</td>\n",
       "      <td>http://elections.huffingtonpost.com/pollster/p...</td>\n",
       "      <td>http://news.investors.com/special-report/50841...</td>\n",
       "      <td>Nonpartisan</td>\n",
       "      <td>None</td>\n",
       "      <td>NaN</td>\n",
       "      <td>1</td>\n",
       "      <td>1</td>\n",
       "      <td>1.0</td>\n",
       "    </tr>\n",
       "    <tr>\n",
       "      <th>4</th>\n",
       "      <td>Rasmussen</td>\n",
       "      <td>2012-11-03</td>\n",
       "      <td>2012-11-05</td>\n",
       "      <td>2012-11-06T08:47:50Z</td>\n",
       "      <td>1500.0</td>\n",
       "      <td>Likely Voters</td>\n",
       "      <td>Automated Phone</td>\n",
       "      <td>48.0</td>\n",
       "      <td>49.0</td>\n",
       "      <td>NaN</td>\n",
       "      <td>NaN</td>\n",
       "      <td>http://elections.huffingtonpost.com/pollster/p...</td>\n",
       "      <td>http://www.rasmussenreports.com/public_content...</td>\n",
       "      <td>Nonpartisan</td>\n",
       "      <td>None</td>\n",
       "      <td>NaN</td>\n",
       "      <td>1</td>\n",
       "      <td>1</td>\n",
       "      <td>-1.0</td>\n",
       "    </tr>\n",
       "  </tbody>\n",
       "</table>\n",
       "</div>"
      ],
      "text/plain": [
       "                    Pollster Start Date    End Date  Entry Date/Time (ET)  \\\n",
       "0  Politico/GWU/Battleground 2012-11-04  2012-11-05  2012-11-06T08:40:26Z   \n",
       "1           YouGov/Economist 2012-11-03  2012-11-05  2012-11-26T15:31:23Z   \n",
       "2           Gravis Marketing 2012-11-03  2012-11-05  2012-11-06T09:22:02Z   \n",
       "3                   IBD/TIPP 2012-11-03  2012-11-05  2012-11-06T08:51:48Z   \n",
       "4                  Rasmussen 2012-11-03  2012-11-05  2012-11-06T08:47:50Z   \n",
       "\n",
       "   Number of Observations     Population             Mode  Obama  Romney  \\\n",
       "0                  1000.0  Likely Voters       Live Phone   47.0    47.0   \n",
       "1                   740.0  Likely Voters         Internet   49.0    47.0   \n",
       "2                   872.0  Likely Voters  Automated Phone   48.0    48.0   \n",
       "3                   712.0  Likely Voters       Live Phone   50.0    49.0   \n",
       "4                  1500.0  Likely Voters  Automated Phone   48.0    49.0   \n",
       "\n",
       "   Undecided  Other                                       Pollster URL  \\\n",
       "0        6.0    NaN  http://elections.huffingtonpost.com/pollster/p...   \n",
       "1        3.0    NaN  http://elections.huffingtonpost.com/pollster/p...   \n",
       "2        4.0    NaN  http://elections.huffingtonpost.com/pollster/p...   \n",
       "3        NaN    1.0  http://elections.huffingtonpost.com/pollster/p...   \n",
       "4        NaN    NaN  http://elections.huffingtonpost.com/pollster/p...   \n",
       "\n",
       "                                          Source URL     Partisan Affiliation  \\\n",
       "0  http://www.politico.com/news/stories/1112/8338...  Nonpartisan        None   \n",
       "1  http://cdn.yougov.com/cumulus_uploads/document...  Nonpartisan        None   \n",
       "2  http://www.gravispolls.com/2012/11/gravis-mark...  Nonpartisan        None   \n",
       "3  http://news.investors.com/special-report/50841...  Nonpartisan        None   \n",
       "4  http://www.rasmussenreports.com/public_content...  Nonpartisan        None   \n",
       "\n",
       "   Question Text  Question Iteration  Days  Diff  \n",
       "0            NaN                   1     0   0.0  \n",
       "1            NaN                   1     1   2.0  \n",
       "2            NaN                   1     1   0.0  \n",
       "3            NaN                   1     1   1.0  \n",
       "4            NaN                   1     1  -1.0  "
      ]
     },
     "execution_count": 214,
     "metadata": {},
     "output_type": "execute_result"
    }
   ],
   "source": [
    "#your code here\n",
    "election['Start Date'] = pd.to_datetime(election['Start Date'])\n",
    "election['Days'] = (max(election['Start Date']) - election['Start Date']).dt.days\n",
    "modified = election[election.Days <= 5]\n",
    "modified.head()"
   ]
  },
  {
   "cell_type": "code",
   "execution_count": 215,
   "metadata": {
    "collapsed": false
   },
   "outputs": [
    {
     "data": {
      "image/png": "[encoded data removed]",
      "text/plain": [
       "<matplotlib.figure.Figure at 0x11653f790>"
      ]
     },
     "metadata": {},
     "output_type": "display_data"
    }
   ],
   "source": [
    "plt.scatter(x=modified['Days'], y=modified['Diff'])\n",
    "plt.axhline(y=3.9, color='r', linestyle='-')\n",
    "plt.show()"
   ]
  },
  {
   "cell_type": "markdown",
   "metadata": {
    "deletable": true,
    "editable": true
   },
   "source": [
    "#### Problem 3(c) \n",
    "\n",
    "Make a plot showing the differences by pollster where the pollsters are on the x-axis and the differences on the y-axis. "
   ]
  },
  {
   "cell_type": "code",
   "execution_count": 216,
   "metadata": {
    "collapsed": false,
    "deletable": true,
    "editable": true
   },
   "outputs": [
    {
     "data": {
      "image/png": "[encoded data removed]",
      "text/plain": [
       "<matplotlib.figure.Figure at 0x11658f190>"
      ]
     },
     "metadata": {},
     "output_type": "display_data"
    }
   ],
   "source": [
    "#your code here\n",
    "pollster_map = {}\n",
    "polls = list(modified.Pollster)\n",
    "for i, p in enumerate(polls):\n",
    "    pollster_map[p] = i\n",
    "plt.scatter(map(lambda x: pollster_map[x], modified.Pollster), modified.Diff)\n",
    "plt.xticks(range(len(polls)), polls, rotation=90)\n",
    "plt.show()"
   ]
  },
  {
   "cell_type": "markdown",
   "metadata": {
    "deletable": true,
    "editable": true
   },
   "source": [
    "Is the *across poll* difference larger than the *between pollster* difference? "
   ]
  },
  {
   "cell_type": "markdown",
   "metadata": {
    "deletable": true,
    "editable": true
   },
   "source": [
    "Answer: There appears to be more difference between pollsters."
   ]
  },
  {
   "cell_type": "markdown",
   "metadata": {
    "deletable": true,
    "editable": true
   },
   "source": [
    "#### Problem 3(d)\n",
    "\n",
    "Take the average for each pollster and then compute the average of that. Given this difference how confident would you have been of an Obama victory?\n",
    "\n",
    "**Hint**: Compute an estimate of the SE of this average based exclusively on the observed data. "
   ]
  },
  {
   "cell_type": "code",
   "execution_count": 217,
   "metadata": {
    "collapsed": false,
    "deletable": true,
    "editable": true
   },
   "outputs": [
    {
     "name": "stdout",
     "output_type": "stream",
     "text": [
      "Average between pollsters 1.2380952381\n",
      "SE between pollsters 1.2966903623\n"
     ]
    }
   ],
   "source": [
    "#your code here\n",
    "average = modified.groupby('Pollster').mean()\n",
    "print(\"Average between pollsters \" + str(np.mean(average.Diff)))\n",
    "print(\"SE between pollsters \" + str(np.std(average.Diff)))"
   ]
  },
  {
   "cell_type": "markdown",
   "metadata": {
    "deletable": true,
    "editable": true
   },
   "source": [
    "#### Problem 3(e)\n",
    "\n",
    "**For AC209 Students**: Show the difference against time and see if you can detect a trend towards the end. Use this trend to see if it improves the final estimate."
   ]
  },
  {
   "cell_type": "code",
   "execution_count": 230,
   "metadata": {
    "collapsed": false,
    "deletable": true,
    "editable": true,
    "scrolled": true
   },
   "outputs": [
    {
     "data": {
      "text/plain": [
       "[<matplotlib.lines.Line2D at 0x11d2efa50>]"
      ]
     },
     "execution_count": 230,
     "metadata": {},
     "output_type": "execute_result"
    },
    {
     "data": {
      "image/png": "[encoded data removed]",
      "text/plain": [
       "<matplotlib.figure.Figure at 0x11d20f350>"
      ]
     },
     "metadata": {},
     "output_type": "display_data"
    }
   ],
   "source": [
    "#your code here\n",
    "mod = election[(election.Days < 88) & (election.Days > 0)]\n",
    "mod = mod.groupby('Days', as_index=False).mean()\n",
    "mod['Days'] = map(lambda x: 90 - x, mod['Days'])\n",
    "plt.plot(mod['Days'], mod['Diff'])"
   ]
  },
  {
   "cell_type": "markdown",
   "metadata": {
    "deletable": true,
    "editable": true
   },
   "source": [
    "Answer: Polls turned in favor of Obama around the 55 day mark."
   ]
  },
  {
   "cell_type": "markdown",
   "metadata": {
    "deletable": true,
    "editable": true
   },
   "source": [
    "## Discussion for Problem 3\n",
    "\n",
    "*Write a brief discussion of your conclusions to the questions and tasks above in 100 words or less.*\n",
    "\n",
    "---\n",
    "\n",
    "    Better to use average of days since lots of variation between pollsters."
   ]
  },
  {
   "cell_type": "markdown",
   "metadata": {
    "deletable": true,
    "editable": true
   },
   "source": [
    "## Problem 4\n",
    "\n",
    "In this last problem, we will use the polls from the [2014 Senate Midterm Elections](http://elections.huffingtonpost.com/pollster) from the [HuffPost Pollster API](http://elections.huffingtonpost.com/pollster/api) to create a preliminary prediction of the result of each state. \n",
    "\n",
    "The HuffPost Pollster API allows you to access the data as a CSV or a JSON response by tacking \".csv\" or \".json\" at the end of the URLs. For example the 2012 Presidential Election could be accessed as a [.json](http://elections.huffingtonpost.com/pollster/2012-general-election-romney-vs-obama.json) instead of a [.csv](http://elections.huffingtonpost.com/pollster/2012-general-election-romney-vs-obama.csv)"
   ]
  },
  {
   "cell_type": "markdown",
   "metadata": {
    "deletable": true,
    "editable": true
   },
   "source": [
    "#### Problem 4(a)\n",
    "\n",
    "Read in the polls for **all** of the 2014 Senate Elections using the HuffPost API. For example, we can consider the [2014 Senate race in Kentucky between Mitch McConnell and Alison Grimes](http://elections.huffingtonpost.com/pollster/2014-kentucky-senate-mcconnell-vs-grimes). \n",
    "\n",
    "To search for the 2014 Senate races, use the `topics` parameter in the API [[read more about topics here](http://elections.huffingtonpost.com/pollster/api)].  "
   ]
  },
  {
   "cell_type": "code",
   "execution_count": 231,
   "metadata": {
    "collapsed": false,
    "deletable": true,
    "editable": true
   },
   "outputs": [],
   "source": [
    "url_str = \"http://elections.huffingtonpost.com/pollster/api/charts/?topic=2014-senate\""
   ]
  },
  {
   "cell_type": "markdown",
   "metadata": {
    "deletable": true,
    "editable": true
   },
   "source": [
    "To list all the URLs related to the 2014 Senate races using the pollster API, we can use a list comprehension:"
   ]
  },
  {
   "cell_type": "code",
   "execution_count": 232,
   "metadata": {
    "collapsed": false,
    "deletable": true,
    "editable": true
   },
   "outputs": [
    {
     "data": {
      "text/plain": [
       "[u'http://elections.huffingtonpost.com/pollster/2014-delaware-senate-wade-vs-coons.csv',\n",
       " u'http://elections.huffingtonpost.com/pollster/2014-massachusetts-senate-herr-vs-markey.csv',\n",
       " u'http://elections.huffingtonpost.com/pollster/2014-rhode-island-senate-zaccaria-vs-reed.csv',\n",
       " u'http://elections.huffingtonpost.com/pollster/2014-montana-senate-daines-vs-curtis.csv',\n",
       " u'http://elections.huffingtonpost.com/pollster/2014-oklahoma-senate-lankford-vs-johnson.csv',\n",
       " u'http://elections.huffingtonpost.com/pollster/2014-hawaii-senate-cavasso-vs-schatz.csv',\n",
       " u'http://elections.huffingtonpost.com/pollster/2014-kansas-senate-roberts-vs-orman-vs-taylor.csv',\n",
       " u'http://elections.huffingtonpost.com/pollster/2014-wyoming-senate.csv',\n",
       " u'http://elections.huffingtonpost.com/pollster/2014-tennessee-senate-alexander-vs-ball.csv',\n",
       " u'http://elections.huffingtonpost.com/pollster/2014-idaho-senate-risch-vs-mitchell.csv',\n",
       " u'http://elections.huffingtonpost.com/pollster/2014-new-jersey-senate-bell-vs-booker.csv',\n",
       " u'http://elections.huffingtonpost.com/pollster/2014-new-mexico-senate-weh-vs-udall.csv',\n",
       " u'http://elections.huffingtonpost.com/pollster/2014-oklahoma-senate-inhofe-vs-silverstein.csv',\n",
       " u'http://elections.huffingtonpost.com/pollster/2014-south-carolina-senate-scott-vs-dickerson.csv',\n",
       " u'http://elections.huffingtonpost.com/pollster/2014-south-carolina-senate-graham-vs-hutto.csv',\n",
       " u'http://elections.huffingtonpost.com/pollster/2014-texas-senate-cornyn-vs-alameel.csv',\n",
       " u'http://elections.huffingtonpost.com/pollster/2014-minnesota-senate-mcfadden-vs-franken.csv',\n",
       " u'http://elections.huffingtonpost.com/pollster/2014-maine-senate-collins-vs-bellows.csv',\n",
       " u'http://elections.huffingtonpost.com/pollster/2014-south-dakota-senate-rounds-vs-weiland.csv',\n",
       " u'http://elections.huffingtonpost.com/pollster/2014-nebraska-senate-sasse-vs-domina.csv',\n",
       " u'http://elections.huffingtonpost.com/pollster/2014-georgia-senate-perdue-vs-nunn.csv',\n",
       " u'http://elections.huffingtonpost.com/pollster/2014-oregon-senate-wehby-vs-merkley.csv',\n",
       " u'http://elections.huffingtonpost.com/pollster/2014-mississippi-senate-cochran-vs-childers.csv',\n",
       " u'http://elections.huffingtonpost.com/pollster/2014-iowa-senate-ernst-vs-braley.csv',\n",
       " u'http://elections.huffingtonpost.com/pollster/2014-alaska-senate-sullivan-vs-begich.csv',\n",
       " u'http://elections.huffingtonpost.com/pollster/2014-illinois-senate-oberweis-vs-durbin.csv',\n",
       " u'http://elections.huffingtonpost.com/pollster/2014-colorado-senate-gardner-vs-udall.csv',\n",
       " u'http://elections.huffingtonpost.com/pollster/2014-virginia-senate-gillespie-vs-warner.csv',\n",
       " u'http://elections.huffingtonpost.com/pollster/2014-north-carolina-senate-tillis-vs-hagan.csv',\n",
       " u'http://elections.huffingtonpost.com/pollster/2014-new-hampshire-senate-bass-vs-shaheen.csv',\n",
       " u'http://elections.huffingtonpost.com/pollster/2014-west-virginia-senate-capito-vs-tennant.csv',\n",
       " u'http://elections.huffingtonpost.com/pollster/2014-new-hampshire-senate-brown-vs-shaheen.csv',\n",
       " u'http://elections.huffingtonpost.com/pollster/2014-louisiana-senate-cassidy-vs-landrieu.csv',\n",
       " u'http://elections.huffingtonpost.com/pollster/2014-michigan-senate-land-vs-peters.csv',\n",
       " u'http://elections.huffingtonpost.com/pollster/2014-arkansas-senate-cotton-vs-pryor.csv',\n",
       " u'http://elections.huffingtonpost.com/pollster/2014-kentucky-senate-mcconnell-vs-grimes.csv']"
      ]
     },
     "execution_count": 232,
     "metadata": {},
     "output_type": "execute_result"
    }
   ],
   "source": [
    "election_urls = [election['url'] + '.csv' for election in requests.get(url_str).json()]\n",
    "election_urls"
   ]
  },
  {
   "cell_type": "markdown",
   "metadata": {
    "deletable": true,
    "editable": true
   },
   "source": [
    "Because there so many Senate races, we can create a dictionary of pandas DataFrames that will be keyed by the name of the election (a string). "
   ]
  },
  {
   "cell_type": "code",
   "execution_count": 249,
   "metadata": {
    "collapsed": false,
    "deletable": true,
    "editable": true
   },
   "outputs": [],
   "source": [
    "def build_frame(url):\n",
    "    \"\"\"\n",
    "    Returns a pandas DataFrame object containing\n",
    "    the data returned from the given url\n",
    "    \"\"\"\n",
    "    source = requests.get(url).text\n",
    "    \n",
    "    # Use StringIO because pd.DataFrame.from_csv requires .read() method\n",
    "    s = StringIO(source)\n",
    "    \n",
    "    return pd.DataFrame.from_csv(s, index_col=None).convert_objects(\n",
    "            convert_dates=\"coerce\", convert_numeric=True)"
   ]
  },
  {
   "cell_type": "code",
   "execution_count": 250,
   "metadata": {
    "collapsed": false,
    "deletable": true,
    "editable": true
   },
   "outputs": [
    {
     "name": "stderr",
     "output_type": "stream",
     "text": [
      "/Users/William/anaconda3/envs/python2/lib/python2.7/site-packages/ipykernel/__main__.py:12: FutureWarning: convert_objects is deprecated.  Use the data-type specific converters pd.to_datetime, pd.to_timedelta and pd.to_numeric.\n"
     ]
    }
   ],
   "source": [
    "# Makes a dictionary of pandas DataFrames keyed on election string.\n",
    "dfs = dict((election.split(\"/\")[-1][:-4], build_frame(election)) for election in election_urls)"
   ]
  },
  {
   "cell_type": "markdown",
   "metadata": {
    "deletable": true,
    "editable": true
   },
   "source": [
    "Show the head of the DataFrame containing the polls for the 2014 Senate race in Kentucky between McConnell and Grimes."
   ]
  },
  {
   "cell_type": "code",
   "execution_count": 251,
   "metadata": {
    "collapsed": false,
    "deletable": true,
    "editable": true
   },
   "outputs": [
    {
     "data": {
      "text/html": [
       "<div>\n",
       "<table border=\"1\" class=\"dataframe\">\n",
       "  <thead>\n",
       "    <tr style=\"text-align: right;\">\n",
       "      <th></th>\n",
       "      <th>Pollster</th>\n",
       "      <th>Start Date</th>\n",
       "      <th>End Date</th>\n",
       "      <th>Entry Date/Time (ET)</th>\n",
       "      <th>Number of Observations</th>\n",
       "      <th>Population</th>\n",
       "      <th>Mode</th>\n",
       "      <th>Grimes</th>\n",
       "      <th>McConnell</th>\n",
       "      <th>Undecided</th>\n",
       "      <th>Pollster URL</th>\n",
       "      <th>Source URL</th>\n",
       "      <th>Partisan</th>\n",
       "      <th>Affiliation</th>\n",
       "      <th>Question Text</th>\n",
       "      <th>Question Iteration</th>\n",
       "    </tr>\n",
       "  </thead>\n",
       "  <tbody>\n",
       "    <tr>\n",
       "      <th>0</th>\n",
       "      <td>PPP (D)</td>\n",
       "      <td>2014-10-30</td>\n",
       "      <td>2014-11-01</td>\n",
       "      <td>2014-11-02 01:44:58</td>\n",
       "      <td>1503</td>\n",
       "      <td>Likely Voters</td>\n",
       "      <td>IVR/Online</td>\n",
       "      <td>42.0</td>\n",
       "      <td>50.0</td>\n",
       "      <td>NaN</td>\n",
       "      <td>http://elections.huffingtonpost.com/pollster/p...</td>\n",
       "      <td>http://www.publicpolicypolling.com/pdf/2014/PP...</td>\n",
       "      <td>Pollster</td>\n",
       "      <td>Dem</td>\n",
       "      <td>NaN</td>\n",
       "      <td>1</td>\n",
       "    </tr>\n",
       "    <tr>\n",
       "      <th>1</th>\n",
       "      <td>NBC/Marist</td>\n",
       "      <td>2014-10-27</td>\n",
       "      <td>2014-10-30</td>\n",
       "      <td>2014-11-02 14:37:22</td>\n",
       "      <td>556</td>\n",
       "      <td>Likely Voters</td>\n",
       "      <td>Live Phone</td>\n",
       "      <td>41.0</td>\n",
       "      <td>50.0</td>\n",
       "      <td>3.0</td>\n",
       "      <td>http://elections.huffingtonpost.com/pollster/p...</td>\n",
       "      <td>http://newscms.nbcnews.com/sites/newscms/files...</td>\n",
       "      <td>Nonpartisan</td>\n",
       "      <td>None</td>\n",
       "      <td>NaN</td>\n",
       "      <td>1</td>\n",
       "    </tr>\n",
       "    <tr>\n",
       "      <th>2</th>\n",
       "      <td>SurveyUSA/Courier-Journal/Herald-Leader/WHAS/WKYT</td>\n",
       "      <td>2014-10-25</td>\n",
       "      <td>2014-10-29</td>\n",
       "      <td>2014-10-30 23:33:59</td>\n",
       "      <td>597</td>\n",
       "      <td>Likely Voters</td>\n",
       "      <td>IVR/Online</td>\n",
       "      <td>43.0</td>\n",
       "      <td>48.0</td>\n",
       "      <td>6.0</td>\n",
       "      <td>http://elections.huffingtonpost.com/pollster/p...</td>\n",
       "      <td>http://www.surveyusa.com/client/PollReport.asp...</td>\n",
       "      <td>Nonpartisan</td>\n",
       "      <td>None</td>\n",
       "      <td>NaN</td>\n",
       "      <td>1</td>\n",
       "    </tr>\n",
       "    <tr>\n",
       "      <th>3</th>\n",
       "      <td>POS (R-Crossroads GPS)</td>\n",
       "      <td>2014-10-25</td>\n",
       "      <td>2014-10-27</td>\n",
       "      <td>2014-10-30 20:56:18</td>\n",
       "      <td>600</td>\n",
       "      <td>Likely Voters</td>\n",
       "      <td>Live Phone</td>\n",
       "      <td>43.0</td>\n",
       "      <td>50.0</td>\n",
       "      <td>NaN</td>\n",
       "      <td>http://elections.huffingtonpost.com/pollster/p...</td>\n",
       "      <td>https://www.crossroadsgps.org/wp-content/uploa...</td>\n",
       "      <td>Sponsor</td>\n",
       "      <td>Rep</td>\n",
       "      <td>NaN</td>\n",
       "      <td>1</td>\n",
       "    </tr>\n",
       "    <tr>\n",
       "      <th>4</th>\n",
       "      <td>CBS/NYT/YouGov</td>\n",
       "      <td>2014-10-16</td>\n",
       "      <td>2014-10-23</td>\n",
       "      <td>2014-10-26 15:00:07</td>\n",
       "      <td>1502</td>\n",
       "      <td>Likely Voters</td>\n",
       "      <td>Internet</td>\n",
       "      <td>39.0</td>\n",
       "      <td>45.0</td>\n",
       "      <td>14.0</td>\n",
       "      <td>http://elections.huffingtonpost.com/pollster/p...</td>\n",
       "      <td>https://today.yougov.com/news/2014/09/07/battl...</td>\n",
       "      <td>Nonpartisan</td>\n",
       "      <td>None</td>\n",
       "      <td>NaN</td>\n",
       "      <td>1</td>\n",
       "    </tr>\n",
       "  </tbody>\n",
       "</table>\n",
       "</div>"
      ],
      "text/plain": [
       "                                            Pollster Start Date   End Date  \\\n",
       "0                                            PPP (D) 2014-10-30 2014-11-01   \n",
       "1                                         NBC/Marist 2014-10-27 2014-10-30   \n",
       "2  SurveyUSA/Courier-Journal/Herald-Leader/WHAS/WKYT 2014-10-25 2014-10-29   \n",
       "3                             POS (R-Crossroads GPS) 2014-10-25 2014-10-27   \n",
       "4                                     CBS/NYT/YouGov 2014-10-16 2014-10-23   \n",
       "\n",
       "  Entry Date/Time (ET)  Number of Observations     Population        Mode  \\\n",
       "0  2014-11-02 01:44:58                    1503  Likely Voters  IVR/Online   \n",
       "1  2014-11-02 14:37:22                     556  Likely Voters  Live Phone   \n",
       "2  2014-10-30 23:33:59                     597  Likely Voters  IVR/Online   \n",
       "3  2014-10-30 20:56:18                     600  Likely Voters  Live Phone   \n",
       "4  2014-10-26 15:00:07                    1502  Likely Voters    Internet   \n",
       "\n",
       "   Grimes  McConnell  Undecided  \\\n",
       "0    42.0       50.0        NaN   \n",
       "1    41.0       50.0        3.0   \n",
       "2    43.0       48.0        6.0   \n",
       "3    43.0       50.0        NaN   \n",
       "4    39.0       45.0       14.0   \n",
       "\n",
       "                                        Pollster URL  \\\n",
       "0  http://elections.huffingtonpost.com/pollster/p...   \n",
       "1  http://elections.huffingtonpost.com/pollster/p...   \n",
       "2  http://elections.huffingtonpost.com/pollster/p...   \n",
       "3  http://elections.huffingtonpost.com/pollster/p...   \n",
       "4  http://elections.huffingtonpost.com/pollster/p...   \n",
       "\n",
       "                                          Source URL     Partisan Affiliation  \\\n",
       "0  http://www.publicpolicypolling.com/pdf/2014/PP...     Pollster         Dem   \n",
       "1  http://newscms.nbcnews.com/sites/newscms/files...  Nonpartisan        None   \n",
       "2  http://www.surveyusa.com/client/PollReport.asp...  Nonpartisan        None   \n",
       "3  https://www.crossroadsgps.org/wp-content/uploa...      Sponsor         Rep   \n",
       "4  https://today.yougov.com/news/2014/09/07/battl...  Nonpartisan        None   \n",
       "\n",
       "   Question Text  Question Iteration  \n",
       "0            NaN                   1  \n",
       "1            NaN                   1  \n",
       "2            NaN                   1  \n",
       "3            NaN                   1  \n",
       "4            NaN                   1  "
      ]
     },
     "execution_count": 251,
     "metadata": {},
     "output_type": "execute_result"
    }
   ],
   "source": [
    "#your code here\n",
    "dfs['2014-kentucky-senate-mcconnell-vs-grimes'].head()"
   ]
  },
  {
   "cell_type": "markdown",
   "metadata": {
    "deletable": true,
    "editable": true
   },
   "source": [
    "#### Problem 4(b)\n",
    "\n",
    "For each 2014 Senate race, create a preliminary prediction of the result for that state."
   ]
  },
  {
   "cell_type": "code",
   "execution_count": 267,
   "metadata": {
    "collapsed": false,
    "deletable": true,
    "editable": true
   },
   "outputs": [
    {
     "data": {
      "text/html": [
       "<div>\n",
       "<table border=\"1\" class=\"dataframe\">\n",
       "  <thead>\n",
       "    <tr style=\"text-align: right;\">\n",
       "      <th></th>\n",
       "      <th>Candidate1</th>\n",
       "      <th>Candidate2</th>\n",
       "      <th>Difference</th>\n",
       "      <th>Winner</th>\n",
       "    </tr>\n",
       "  </thead>\n",
       "  <tbody>\n",
       "    <tr>\n",
       "      <th>2014-kentucky-senate-mcconnell-vs-grimes</th>\n",
       "      <td>Grimes</td>\n",
       "      <td>McConnell</td>\n",
       "      <td>-3.000000</td>\n",
       "      <td>McConnell</td>\n",
       "    </tr>\n",
       "    <tr>\n",
       "      <th>2014-montana-senate-daines-vs-curtis</th>\n",
       "      <td>Curtis</td>\n",
       "      <td>Daines</td>\n",
       "      <td>-17.142857</td>\n",
       "      <td>Daines</td>\n",
       "    </tr>\n",
       "    <tr>\n",
       "      <th>2014-north-carolina-senate-tillis-vs-hagan</th>\n",
       "      <td>Haugh</td>\n",
       "      <td>Tillis</td>\n",
       "      <td>-35.410256</td>\n",
       "      <td>Tillis</td>\n",
       "    </tr>\n",
       "    <tr>\n",
       "      <th>2014-tennessee-senate-alexander-vs-ball</th>\n",
       "      <td>Alexander</td>\n",
       "      <td>Ball</td>\n",
       "      <td>19.000000</td>\n",
       "      <td>Alexander</td>\n",
       "    </tr>\n",
       "    <tr>\n",
       "      <th>2014-michigan-senate-land-vs-peters</th>\n",
       "      <td>Peters</td>\n",
       "      <td>Land</td>\n",
       "      <td>5.611940</td>\n",
       "      <td>Peters</td>\n",
       "    </tr>\n",
       "  </tbody>\n",
       "</table>\n",
       "</div>"
      ],
      "text/plain": [
       "                                           Candidate1 Candidate2  Difference  \\\n",
       "2014-kentucky-senate-mcconnell-vs-grimes       Grimes  McConnell   -3.000000   \n",
       "2014-montana-senate-daines-vs-curtis           Curtis     Daines  -17.142857   \n",
       "2014-north-carolina-senate-tillis-vs-hagan      Haugh     Tillis  -35.410256   \n",
       "2014-tennessee-senate-alexander-vs-ball     Alexander       Ball   19.000000   \n",
       "2014-michigan-senate-land-vs-peters            Peters       Land    5.611940   \n",
       "\n",
       "                                               Winner  \n",
       "2014-kentucky-senate-mcconnell-vs-grimes    McConnell  \n",
       "2014-montana-senate-daines-vs-curtis           Daines  \n",
       "2014-north-carolina-senate-tillis-vs-hagan     Tillis  \n",
       "2014-tennessee-senate-alexander-vs-ball     Alexander  \n",
       "2014-michigan-senate-land-vs-peters            Peters  "
      ]
     },
     "execution_count": 267,
     "metadata": {},
     "output_type": "execute_result"
    }
   ],
   "source": [
    "#your code here\n",
    "result = pd.DataFrame({'Candidate1': [], 'Candidate2': [], 'Difference': [], 'Winner': []})\n",
    "result['Candidate1'] = result['Candidate1'].astype(object)\n",
    "result['Candidate2'] = result['Candidate2'].astype(object)\n",
    "result['Winner'] = result['Winner'].astype(object)\n",
    "\n",
    "for election in dfs:\n",
    "    candidate1 = dfs[election].columns[7]\n",
    "    candidate2 = dfs[election].columns[8]\n",
    "    diff = np.mean(dfs[election][candidate1]-dfs[election][candidate2])\n",
    "    result.set_value(election, 'Candidate1', candidate1)\n",
    "    result.set_value(election, 'Candidate2', candidate2)\n",
    "    result.set_value(election, 'Difference', diff)\n",
    "    if diff > 0:\n",
    "        result.set_value(election, 'Winner', candidate1)\n",
    "    else:\n",
    "        result.set_value(election, 'Winner', candidate2)\n",
    "        \n",
    "result.head()"
   ]
  },
  {
   "cell_type": "markdown",
   "metadata": {
    "deletable": true,
    "editable": true
   },
   "source": [
    "# Submission Instructions\n",
    "\n",
    "To submit your homework, create a folder named **lastname_firstinitial_hw#** and place your IPython notebooks, data files, and any other files in this folder. Your IPython Notebooks should be completely executed with the results visible in the notebook. We should not have to run any code.  Compress the folder (please use .zip compression) and submit to the CS109 dropbox in the appropriate folder. *If we cannot access your work because these directions are not followed correctly, we will not grade your work.*\n"
   ]
  },
  {
   "cell_type": "code",
   "execution_count": null,
   "metadata": {
    "collapsed": false,
    "deletable": true,
    "editable": true
   },
   "outputs": [],
   "source": []
  }
 ],
 "metadata": {
  "anaconda-cloud": {},
  "kernelspec": {
   "display_name": "Python 2",
   "language": "python",
   "name": "python2"
  },
  "language_info": {
   "codemirror_mode": {
    "name": "ipython",
    "version": 2
   },
   "file_extension": ".py",
   "mimetype": "text/x-python",
   "name": "python",
   "nbconvert_exporter": "python",
   "pygments_lexer": "ipython2",
   "version": "2.7.13"
  }
 },
 "nbformat": 4,
 "nbformat_minor": 0
}
